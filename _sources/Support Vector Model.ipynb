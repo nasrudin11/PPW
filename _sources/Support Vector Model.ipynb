{
 "cells": [
  {
   "cell_type": "markdown",
   "id": "b947ef8b-4d41-4049-832f-48b2ab61eba8",
   "metadata": {},
   "source": [
    "# Vector Space Model"
   ]
  },
  {
   "cell_type": "markdown",
   "id": "a9a77ac3-b1e7-4649-9b82-773e0b54bc8a",
   "metadata": {},
   "source": [
    "Vector Space Model (VSM) adalah pendekatan yang menggunakan vektor untuk merepresentasikan setiap kata dalam suatu ruang dimensi. Dalam VSM, dokumen dilihat sebagai vektor yang memiliki panjang (magnitudo) dan arah. Setiap kata dalam dokumen diwakili oleh sebuah dimensi dalam ruang vektor. Relevansi dokumen terhadap kueri dihitung berdasarkan kesamaan antara vektor dokumen dan vektor kueri.\n",
    "\n",
    "VSM mendukung pencocokan parsial dengan menetapkan bobot non-biner pada kata-kata dalam dokumen dan kueri. Bobot tersebut digunakan untuk mengukur kesamaan antara dokumen yang tersimpan dan kueri pengguna. Dokumen yang ditemukan diurutkan berdasarkan tingkat kemiripannya, sehingga dokumen yang paling relevan ditampilkan lebih akurat sesuai dengan kebutuhan pengguna.\n",
    "\n",
    "Berikut secara rinci langkah-langkah dan konsep di balik VSM:\n",
    "\n",
    "### 1. **Dokumen dan Kueri sebagai Vektor**\n",
    "Pada dasarnya, setiap dokumen atau kueri direpresentasikan sebagai sebuah vektor. Namun, vektor ini tidak seperti vektor geometris biasa, tetapi memiliki dimensi sebanyak jumlah kata unik (vocabulary) dalam koleksi dokumen. Setiap dimensi dalam vektor mewakili satu kata atau istilah dari koleksi.\n",
    "\n",
    "- **Dimensi Vektor**: Jika kita memiliki sebuah kumpulan dokumen yang terdiri dari 1.000 kata unik, maka setiap dokumen dan kueri akan direpresentasikan oleh vektor dengan 1.000 dimensi.\n",
    "- **Isi Vektor**: Setiap elemen dalam vektor merepresentasikan bobot dari sebuah kata dalam dokumen tertentu. Sebagai contoh, jika kata \"AI\" muncul dalam dokumen, maka elemen yang merepresentasikan kata \"AI\" akan memiliki nilai lebih besar dari nol, sedangkan kata-kata yang tidak muncul akan bernilai nol.\n",
    "\n",
    "Contoh representasi sederhana:\n",
    "- Dokumen 1: \"Belajar AI adalah masa depan\"\n",
    "- Dokumen 2: \"AI bisa menggantikan manusia\"\n",
    "- Kueri: \"AI dan masa depan\"\n",
    "\n",
    "Vektor untuk Dokumen 1 mungkin tampak seperti:\n",
    "`(1, 1, 1, 1, 0)` untuk kata-kata `(\"Belajar\", \"AI\", \"adalah\", \"masa\", \"depan\")`, di mana angka 1 menunjukkan bahwa kata tersebut muncul sekali.\n",
    "\n",
    "### 2. **Pembobotan Kata (Term Weighting)**\n",
    "Dalam VSM, tidak semua kata memiliki nilai yang sama. Untuk membuat model lebih efisien dalam menangkap kata-kata penting, VSM biasanya menggunakan teknik **pembobotan**. Teknik yang paling umum adalah **TF-IDF (Term Frequency - Inverse Document Frequency)**. TF-IDF membantu menghitung seberapa penting sebuah kata dalam sebuah dokumen dibandingkan dengan seluruh kumpulan dokumen.\n",
    "\n",
    "- **Term Frequency (TF)**: Ini adalah jumlah kemunculan sebuah kata dalam dokumen. Semakin sering sebuah kata muncul, semakin besar bobot TF-nya. Namun, sering kali kita menggunakan versi termodifikasi seperti TF relatif (jumlah kemunculan kata dibagi total kata dalam dokumen).\n",
    "- **Inverse Document Frequency (IDF)**: Kata yang sering muncul di seluruh dokumen (misalnya \"adalah\" atau \"dan\") biasanya kurang informatif, sehingga diberi bobot lebih rendah. IDF membantu mengurangi bobot kata-kata yang terlalu umum dengan menghitung kebalikan dari frekuensi dokumen yang mengandung kata tersebut.\n",
    "\n",
    "Formula umum untuk TF-IDF:\n",
    "\n",
    "$$\\text{TF-IDF}(t, d) = \\text{TF}(t, d) \\times \\log\\left(\\frac{N}{\\text{DF}(t)}\\right)$$\n",
    "\n",
    "Di mana:\n",
    "- $(t)$ adalah kata (term)\n",
    "- $(d)$ adalah dokumen\n",
    "- $(N)$ adalah jumlah total dokumen\n",
    "- $(DF(t))$ adalah jumlah dokumen yang mengandung kata \\(t\\)\n",
    "\n",
    "Dengan TF-IDF, kata yang unik untuk sebuah dokumen (misalnya istilah teknis atau nama produk) akan memiliki bobot lebih tinggi dibandingkan dengan kata-kata yang umum di seluruh dokumen.\n",
    "\n",
    "### 3. **Menghitung Kesamaan Antar Dokumen**\n",
    "Setelah setiap dokumen dan kueri direpresentasikan sebagai vektor, kita bisa menghitung **kesamaan** antar dua vektor (dokumen atau dokumen-kueri). Salah satu metode paling umum adalah **Cosine Similarity**.\n",
    "\n",
    "- **Cosine Similarity**: Ini adalah ukuran yang menghitung sudut antara dua vektor dalam ruang multidimensi. Semakin kecil sudutnya, semakin dekat atau mirip dua vektor tersebut. Nilai cosine similarity berkisar dari 0 (tidak mirip sama sekali) hingga 1 (sangat mirip).\n",
    "\n",
    "Formula cosine similarity:\n",
    "\n",
    "$$ \\text{cosine\\_similarity}(A, B) = \\frac{A \\cdot B}{||A|| \\cdot ||B||} $$\n",
    "\n",
    "Di mana:\n",
    "- $(A \\cdot B)$ adalah dot product dari vektor A dan B (hasil perkalian elemen-elemen vektor yang sesuai)\n",
    "- $(||A||)$ dan $(||B||)$ adalah norma (panjang) dari vektor A dan B\n",
    "\n",
    "Dengan menghitung cosine similarity, kita dapat mengetahui seberapa mirip dokumen dengan kueri. Jika nilai cosine similarity tinggi, berarti dokumen tersebut lebih relevan dengan kueri, sehingga dokumen tersebut dapat ditempatkan di urutan yang lebih tinggi dalam hasil pencarian.\n",
    "\n",
    "### 4. **Pengurutan Dokumen**\n",
    "Setelah kita menghitung cosine similarity antara kueri dan setiap dokumen dalam koleksi, dokumen-dokumen tersebut bisa diurutkan berdasarkan nilai similarity dari yang tertinggi ke yang terendah. Hasil ini bisa digunakan dalam **sistem pencarian** untuk menampilkan dokumen yang paling relevan di posisi teratas.\n",
    "\n",
    "### 5. **Keuntungan dan Keterbatasan VSM**\n",
    "**Keuntungan**:\n",
    "- **Sederhana dan Efisien**: VSM mudah diimplementasikan dan cukup efisien dalam menangani koleksi dokumen besar.\n",
    "- **Penanganan Sinonim dan Polisemik Terbatas**: Meski VSM sederhana, ia tidak menangani masalah sinonim (kata-kata berbeda dengan makna sama) dan polisemik (kata yang sama dengan makna berbeda) dengan baik.\n",
    "\n",
    "**Keterbatasan**:\n",
    "- **Kata-Kata Independen**: VSM mengasumsikan bahwa kata-kata dalam dokumen tidak memiliki hubungan satu sama lain, sehingga konteks sering kali hilang. Misalnya, frase \"tidak setuju\" akan diperlakukan sebagai dua kata terpisah, meskipun maknanya berubah ketika digabungkan.\n",
    "- **Dimensi yang Tinggi**: Ketika bekerja dengan kumpulan dokumen besar, jumlah kata yang unik bisa sangat banyak, menyebabkan vektor memiliki dimensi yang sangat tinggi, yang dapat menyebabkan masalah performa.\n",
    "\n",
    "### Contoh Sederhana:\n",
    "\n",
    "Misalkan kita memiliki tiga dokumen:\n",
    "1. \"Belajar AI adalah masa depan\"\n",
    "2. \"AI bisa menggantikan manusia\"\n",
    "3. \"Manusia belajar dari AI masa depan\"\n",
    "\n",
    "Jika kuerinya adalah \"belajar AI\", kita bisa menghitung cosine similarity antara kueri dan setiap dokumen. Dokumen dengan cosine similarity tertinggi adalah dokumen yang paling relevan dengan kueri.\n",
    "\n",
    "### Kesimpulan\n",
    "Vector Space Model (VSM) adalah pendekatan sederhana namun sangat efektif untuk merepresentasikan dokumen dan kueri dalam ruang vektor, memungkinkan pencarian dan pengurutan dokumen berdasarkan kesamaan konten. Meskipun ada beberapa keterbatasan, VSM masih digunakan secara luas dalam sistem pencarian informasi, terutama ketika dipadukan dengan teknik pembobotan seperti TF-IDF."
   ]
  },
  {
   "cell_type": "markdown",
   "id": "36daaa11-9d63-4537-a691-4f5c3e297c23",
   "metadata": {},
   "source": [
    "# Implementasi"
   ]
  },
  {
   "cell_type": "markdown",
   "id": "30cd7563-bcb0-4806-a198-083af75a7e66",
   "metadata": {},
   "source": [
    "## Library yang digunakan"
   ]
  },
  {
   "cell_type": "code",
   "execution_count": null,
   "id": "bc722b3a-61f3-4a85-8d55-01859e0f56cb",
   "metadata": {},
   "outputs": [],
   "source": []
  },
  {
   "cell_type": "markdown",
   "id": "ca845d59-325c-4626-b6e9-c81bf5cdd2a5",
   "metadata": {},
   "source": [
    "## Implementasi Code"
   ]
  },
  {
   "cell_type": "code",
   "execution_count": null,
   "id": "27b9e7b3-d92e-4cff-92b3-1b157a5396b3",
   "metadata": {},
   "outputs": [],
   "source": []
  },
  {
   "cell_type": "markdown",
   "id": "c85e80bc-1748-42c8-9dba-83ece44e9f37",
   "metadata": {},
   "source": [
    "## Penjelasan Code"
   ]
  },
  {
   "cell_type": "code",
   "execution_count": null,
   "id": "7ea74888-107d-4135-a160-5cd2591ce79a",
   "metadata": {},
   "outputs": [],
   "source": []
  }
 ],
 "metadata": {
  "kernelspec": {
   "display_name": "Python 3 (ipykernel)",
   "language": "python",
   "name": "python3"
  },
  "language_info": {
   "codemirror_mode": {
    "name": "ipython",
    "version": 3
   },
   "file_extension": ".py",
   "mimetype": "text/x-python",
   "name": "python",
   "nbconvert_exporter": "python",
   "pygments_lexer": "ipython3",
   "version": "3.11.9"
  }
 },
 "nbformat": 4,
 "nbformat_minor": 5
}
