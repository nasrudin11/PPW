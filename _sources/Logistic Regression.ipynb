{
 "cells": [
  {
   "cell_type": "markdown",
   "id": "1ce5a007-b22a-451b-95aa-30570d05cb4c",
   "metadata": {},
   "source": [
    "Nama: Ahmad Nasrudin Jamil\n",
    "\n",
    "NIM : 210411100098\n",
    "\n",
    "Kelas : Pencarian dan Penambangan Web B"
   ]
  },
  {
   "cell_type": "markdown",
   "id": "6913613f-d134-41e7-a48f-95aca67f62ce",
   "metadata": {},
   "source": [
    "# Klasifikasi Berita\n",
    "\n",
    "**Klasifikasi berita** adalah proses menggunakan teknik kecerdasan buatan atau pembelajaran mesin (machine learning) untuk mengelompokkan artikel berita ke dalam kategori tertentu secara otomatis. Kategori ini bisa berupa topik seperti \"politik\", \"ekonomi\", \"olahraga\", \"teknologi\", dan sebagainya. Dalam konteks machine learning, **klasifikasi** merupakan salah satu jenis masalah di mana model belajar dari data yang telah diberi label dan kemudian digunakan untuk memprediksi label pada data baru.\n",
    "\n",
    "Berikut adalah langkah-langkah umum dalam klasifikasi berita:\n",
    "\n",
    "1. **Pengumpulan Data**: Langkah pertama adalah mengumpulkan data berita, biasanya berupa teks yang berisi judul, isi berita, dan informasi lainnya. Setiap berita diberi label berdasarkan kategorinya.\n",
    "\n",
    "2. **Pra-pemrosesan Data**: Data teks perlu diubah menjadi bentuk yang dapat dimengerti oleh algoritma machine learning. Beberapa langkah pra-pemrosesan yang umum dilakukan adalah:\n",
    "   - **Tokenisasi**: Memecah teks menjadi kata-kata individu atau token.\n",
    "   - **Penghapusan Stop Words**: Menghapus kata-kata umum yang tidak memiliki banyak makna seperti \"dan\", \"di\", \"yang\", dsb.\n",
    "   - **Stemming atau Lemmatization**: Mengubah kata ke bentuk dasar (misalnya \"running\" menjadi \"run\").\n",
    "   - **Representasi Vektor**: Teks diubah menjadi representasi numerik menggunakan metode seperti Bag of Words (BoW) atau Term Frequency-Inverse Document Frequency (TF-IDF).\n",
    "\n",
    "3. **Pemilihan Model**: Dalam kasus ini, Anda menggunakan **logistic regression**, salah satu algoritma klasik yang sederhana namun efektif untuk klasifikasi. Logistic regression bekerja dengan memodelkan hubungan antara fitur input (vektor yang mewakili berita) dan probabilitas suatu berita termasuk ke dalam kategori tertentu.\n",
    "\n",
    "4. **Pelatihan Model**: Data yang telah diproses digunakan untuk melatih model logistic regression. Model akan mempelajari pola dari teks berita yang berhubungan dengan setiap kategori.\n",
    "\n",
    "5. **Evaluasi Model**: Model yang telah dilatih diuji pada data baru untuk mengukur performanya. Metrik umum yang digunakan dalam klasifikasi termasuk:\n",
    "   - **Akurasi**: Proporsi berita yang diklasifikasikan dengan benar.\n",
    "   - **Precision dan Recall**: Digunakan untuk mengevaluasi performa model dalam situasi di mana data tidak seimbang (misalnya, kategori tertentu lebih banyak dibanding yang lain).\n",
    "   - **F1-Score**: Gabungan dari precision dan recall.\n",
    "\n",
    "6. **Prediksi**: Setelah model dilatih dan diuji, ia dapat digunakan untuk memprediksi kategori berita baru yang belum diberi label. Model akan memberikan probabilitas setiap berita berada dalam kategori tertentu, dan kategori dengan probabilitas tertinggi akan dipilih sebagai hasil prediksi.\n"
   ]
  },
  {
   "cell_type": "markdown",
   "id": "9a84c5a5-be86-41c5-838b-2d9f45544a27",
   "metadata": {},
   "source": [
    "## Logistic Regression\n",
    "\n",
    "**Logistic regression** adalah salah satu algoritma dalam pembelajaran mesin yang digunakan untuk memodelkan hubungan antara variabel input (fitur) dengan variabel output yang bersifat biner atau kategori. Meskipun disebut \"regresi\", logistic regression sebenarnya digunakan untuk masalah klasifikasi, bukan regresi. Logistic regression memprediksi probabilitas suatu kejadian masuk dalam salah satu dari dua kategori.\n",
    "\n",
    "### 1. **Konsep Dasar Logistic Regression**\n",
    "Logistic regression bekerja dengan mengestimasi probabilitas bahwa suatu sampel data masuk ke dalam salah satu dari dua kelas yang telah ditentukan (misalnya, 0 atau 1). Probabilitas ini dinyatakan dengan fungsi logistik atau **sigmoid function**, yang menghasilkan nilai antara 0 dan 1. Probabilitas tersebut kemudian dapat diubah menjadi keputusan klasifikasi (misalnya, jika probabilitas di atas 0.5, kita dapat mengklasifikasikannya sebagai 1; jika di bawah 0.5, sebagai 0).\n",
    "\n",
    "### 2. **Persamaan Logistic Regression**\n",
    "Dalam logistic regression, hubungan antara variabel input \\(X\\) dan probabilitas output \\(P(Y=1)\\) dimodelkan menggunakan persamaan logistik sebagai berikut:\n",
    "\n",
    "$$\n",
    "P(Y=1|X) = \\frac{1}{1 + e^{-(\\beta_0 + \\beta_1 X_1 + \\beta_2 X_2 + \\dots + \\beta_n X_n)}}\n",
    "$$\n",
    "\n",
    "Di sini:\n",
    "- $ (P(Y=1|X)) $ adalah probabilitas bahwa kelas output $(Y)$ adalah 1, diberikan fitur $(X)$.\n",
    "- $(beta_0)$ adalah intercept (bias), dan $(beta_1, beta_2, ..., beta_n)$ adalah koefisien atau bobot fitur $(X_1, X_2, ..., X_n)$.\n",
    "- $(e)$ adalah bilangan Euler, dan fungsi logistik memastikan bahwa output berada dalam rentang 0 hingga 1.\n",
    "\n",
    "### 3. **Fungsi Sigmoid**\n",
    "Fungsi sigmoid digunakan untuk memetakan hasil dari persamaan linear (seperti dalam regresi linear) menjadi probabilitas antara 0 dan 1:\n",
    "\n",
    "$$\n",
    "\\sigma(z) = \\frac{1}{1 + e^{-z}}\n",
    "$$\n",
    "\n",
    "Di mana \\(z\\) adalah kombinasi linear dari fitur input, dan output dari fungsi sigmoid adalah nilai antara 0 dan 1, yang menggambarkan probabilitas suatu sampel termasuk ke dalam kelas 1.\n",
    "\n",
    "### 4. **Proses Klasifikasi**\n",
    "Setelah menghitung probabilitas dengan fungsi sigmoid, logistic regression menggunakan nilai ambang batas (biasanya 0.5) untuk menentukan kelas yang diprediksi. Jika probabilitas lebih besar dari 0.5, maka prediksi kelasnya adalah 1; jika kurang dari 0.5, prediksi kelasnya adalah 0.\n",
    "\n",
    "- Jika $(P(Y=1|X) > 0.5)$, maka kita prediksi $(Y=1)$ (kategori positif).\n",
    "- Jika $(P(Y=1|X) leq 0.5)$, maka kita prediksi $(Y=0)$ (kategori negatif).\n",
    "\n",
    "### 5. **Fungsi Kerugian (Loss Function)**\n",
    "Untuk melatih model logistic regression, kita perlu meminimalkan kesalahan atau kerugian. Fungsi kerugian yang digunakan adalah **binary cross-entropy** (atau log-loss) yang mendefinisikan perbedaan antara probabilitas yang diprediksi oleh model dan label aktual:\n",
    "\n",
    "$$\n",
    "L(y, \\hat{y}) = -\\left[ y \\log(\\hat{y}) + (1 - y) \\log(1 - \\hat{y}) \\right]\n",
    "$$\n",
    "\n",
    "Di mana:\n",
    "- $(y)$ adalah label aktual (0 atau 1).\n",
    "- $(hat{y})$ adalah probabilitas yang diprediksi oleh model.\n",
    "\n",
    "Tujuan dari proses training adalah meminimalkan nilai loss ini dengan mengoptimalkan parameter $((beta_0, beta_1, ..., beta_n))$ menggunakan metode **gradient descent** atau algoritma optimasi lainnya."
   ]
  },
  {
   "cell_type": "markdown",
   "id": "36daaa11-9d63-4537-a691-4f5c3e297c23",
   "metadata": {},
   "source": [
    "# Implementasi"
   ]
  },
  {
   "cell_type": "markdown",
   "id": "30cd7563-bcb0-4806-a198-083af75a7e66",
   "metadata": {},
   "source": [
    "## Library"
   ]
  },
  {
   "cell_type": "code",
   "execution_count": 1,
   "id": "1cd64ba5-4a87-410d-95cf-b5fe329050ed",
   "metadata": {
    "collapsed": true,
    "jupyter": {
     "outputs_hidden": true
    }
   },
   "outputs": [
    {
     "name": "stdout",
     "output_type": "stream",
     "text": [
      "Requirement already satisfied: gdown in c:\\users\\ebc komputer\\appdata\\local\\packages\\pythonsoftwarefoundation.python.3.11_qbz5n2kfra8p0\\localcache\\local-packages\\python311\\site-packages (5.2.0)\n",
      "Requirement already satisfied: beautifulsoup4 in c:\\users\\ebc komputer\\appdata\\local\\packages\\pythonsoftwarefoundation.python.3.11_qbz5n2kfra8p0\\localcache\\local-packages\\python311\\site-packages (from gdown) (4.12.3)\n",
      "Requirement already satisfied: filelock in c:\\users\\ebc komputer\\appdata\\local\\packages\\pythonsoftwarefoundation.python.3.11_qbz5n2kfra8p0\\localcache\\local-packages\\python311\\site-packages (from gdown) (3.15.4)\n",
      "Requirement already satisfied: requests[socks] in c:\\users\\ebc komputer\\appdata\\local\\packages\\pythonsoftwarefoundation.python.3.11_qbz5n2kfra8p0\\localcache\\local-packages\\python311\\site-packages (from gdown) (2.32.3)\n",
      "Requirement already satisfied: tqdm in c:\\users\\ebc komputer\\appdata\\local\\packages\\pythonsoftwarefoundation.python.3.11_qbz5n2kfra8p0\\localcache\\local-packages\\python311\\site-packages (from gdown) (4.66.4)\n",
      "Requirement already satisfied: soupsieve>1.2 in c:\\users\\ebc komputer\\appdata\\local\\packages\\pythonsoftwarefoundation.python.3.11_qbz5n2kfra8p0\\localcache\\local-packages\\python311\\site-packages (from beautifulsoup4->gdown) (2.5)\n",
      "Requirement already satisfied: charset-normalizer<4,>=2 in c:\\users\\ebc komputer\\appdata\\local\\packages\\pythonsoftwarefoundation.python.3.11_qbz5n2kfra8p0\\localcache\\local-packages\\python311\\site-packages (from requests[socks]->gdown) (3.3.2)\n",
      "Requirement already satisfied: idna<4,>=2.5 in c:\\users\\ebc komputer\\appdata\\local\\packages\\pythonsoftwarefoundation.python.3.11_qbz5n2kfra8p0\\localcache\\local-packages\\python311\\site-packages (from requests[socks]->gdown) (3.7)\n",
      "Requirement already satisfied: urllib3<3,>=1.21.1 in c:\\users\\ebc komputer\\appdata\\local\\packages\\pythonsoftwarefoundation.python.3.11_qbz5n2kfra8p0\\localcache\\local-packages\\python311\\site-packages (from requests[socks]->gdown) (2.2.1)\n",
      "Requirement already satisfied: certifi>=2017.4.17 in c:\\users\\ebc komputer\\appdata\\local\\packages\\pythonsoftwarefoundation.python.3.11_qbz5n2kfra8p0\\localcache\\local-packages\\python311\\site-packages (from requests[socks]->gdown) (2024.2.2)\n",
      "Requirement already satisfied: PySocks!=1.5.7,>=1.5.6 in c:\\users\\ebc komputer\\appdata\\local\\packages\\pythonsoftwarefoundation.python.3.11_qbz5n2kfra8p0\\localcache\\local-packages\\python311\\site-packages (from requests[socks]->gdown) (1.7.1)\n",
      "Requirement already satisfied: colorama in c:\\users\\ebc komputer\\appdata\\local\\packages\\pythonsoftwarefoundation.python.3.11_qbz5n2kfra8p0\\localcache\\local-packages\\python311\\site-packages (from tqdm->gdown) (0.4.6)\n"
     ]
    }
   ],
   "source": [
    "!pip install gdown"
   ]
  },
  {
   "cell_type": "code",
   "execution_count": 2,
   "id": "8281cd5d-a7fa-4c9c-be10-5889d4898e1f",
   "metadata": {
    "collapsed": true,
    "jupyter": {
     "outputs_hidden": true
    },
    "scrolled": true
   },
   "outputs": [
    {
     "name": "stdout",
     "output_type": "stream",
     "text": [
      "Requirement already satisfied: seaborn in c:\\users\\ebc komputer\\appdata\\local\\packages\\pythonsoftwarefoundation.python.3.11_qbz5n2kfra8p0\\localcache\\local-packages\\python311\\site-packages (0.13.2)\n",
      "Requirement already satisfied: numpy!=1.24.0,>=1.20 in c:\\users\\ebc komputer\\appdata\\local\\packages\\pythonsoftwarefoundation.python.3.11_qbz5n2kfra8p0\\localcache\\local-packages\\python311\\site-packages (from seaborn) (1.26.4)\n",
      "Requirement already satisfied: pandas>=1.2 in c:\\users\\ebc komputer\\appdata\\local\\packages\\pythonsoftwarefoundation.python.3.11_qbz5n2kfra8p0\\localcache\\local-packages\\python311\\site-packages (from seaborn) (2.2.2)\n",
      "Requirement already satisfied: matplotlib!=3.6.1,>=3.4 in c:\\users\\ebc komputer\\appdata\\local\\packages\\pythonsoftwarefoundation.python.3.11_qbz5n2kfra8p0\\localcache\\local-packages\\python311\\site-packages (from seaborn) (3.9.0)\n",
      "Requirement already satisfied: contourpy>=1.0.1 in c:\\users\\ebc komputer\\appdata\\local\\packages\\pythonsoftwarefoundation.python.3.11_qbz5n2kfra8p0\\localcache\\local-packages\\python311\\site-packages (from matplotlib!=3.6.1,>=3.4->seaborn) (1.2.1)\n",
      "Requirement already satisfied: cycler>=0.10 in c:\\users\\ebc komputer\\appdata\\local\\packages\\pythonsoftwarefoundation.python.3.11_qbz5n2kfra8p0\\localcache\\local-packages\\python311\\site-packages (from matplotlib!=3.6.1,>=3.4->seaborn) (0.12.1)\n",
      "Requirement already satisfied: fonttools>=4.22.0 in c:\\users\\ebc komputer\\appdata\\local\\packages\\pythonsoftwarefoundation.python.3.11_qbz5n2kfra8p0\\localcache\\local-packages\\python311\\site-packages (from matplotlib!=3.6.1,>=3.4->seaborn) (4.52.4)\n",
      "Requirement already satisfied: kiwisolver>=1.3.1 in c:\\users\\ebc komputer\\appdata\\local\\packages\\pythonsoftwarefoundation.python.3.11_qbz5n2kfra8p0\\localcache\\local-packages\\python311\\site-packages (from matplotlib!=3.6.1,>=3.4->seaborn) (1.4.5)\n",
      "Requirement already satisfied: packaging>=20.0 in c:\\users\\ebc komputer\\appdata\\local\\packages\\pythonsoftwarefoundation.python.3.11_qbz5n2kfra8p0\\localcache\\local-packages\\python311\\site-packages (from matplotlib!=3.6.1,>=3.4->seaborn) (24.0)\n",
      "Requirement already satisfied: pillow>=8 in c:\\users\\ebc komputer\\appdata\\local\\packages\\pythonsoftwarefoundation.python.3.11_qbz5n2kfra8p0\\localcache\\local-packages\\python311\\site-packages (from matplotlib!=3.6.1,>=3.4->seaborn) (10.3.0)\n",
      "Requirement already satisfied: pyparsing>=2.3.1 in c:\\users\\ebc komputer\\appdata\\local\\packages\\pythonsoftwarefoundation.python.3.11_qbz5n2kfra8p0\\localcache\\local-packages\\python311\\site-packages (from matplotlib!=3.6.1,>=3.4->seaborn) (3.1.2)\n",
      "Requirement already satisfied: python-dateutil>=2.7 in c:\\users\\ebc komputer\\appdata\\local\\packages\\pythonsoftwarefoundation.python.3.11_qbz5n2kfra8p0\\localcache\\local-packages\\python311\\site-packages (from matplotlib!=3.6.1,>=3.4->seaborn) (2.9.0.post0)\n",
      "Requirement already satisfied: pytz>=2020.1 in c:\\users\\ebc komputer\\appdata\\local\\packages\\pythonsoftwarefoundation.python.3.11_qbz5n2kfra8p0\\localcache\\local-packages\\python311\\site-packages (from pandas>=1.2->seaborn) (2024.1)\n",
      "Requirement already satisfied: tzdata>=2022.7 in c:\\users\\ebc komputer\\appdata\\local\\packages\\pythonsoftwarefoundation.python.3.11_qbz5n2kfra8p0\\localcache\\local-packages\\python311\\site-packages (from pandas>=1.2->seaborn) (2024.1)\n",
      "Requirement already satisfied: six>=1.5 in c:\\users\\ebc komputer\\appdata\\local\\packages\\pythonsoftwarefoundation.python.3.11_qbz5n2kfra8p0\\localcache\\local-packages\\python311\\site-packages (from python-dateutil>=2.7->matplotlib!=3.6.1,>=3.4->seaborn) (1.16.0)\n"
     ]
    }
   ],
   "source": [
    "!pip install seaborn"
   ]
  },
  {
   "cell_type": "code",
   "execution_count": 3,
   "id": "27b9e7b3-d92e-4cff-92b3-1b157a5396b3",
   "metadata": {},
   "outputs": [],
   "source": [
    "import gdown\n",
    "import pandas as pd\n",
    "import numpy as np\n",
    "import seaborn as sns\n",
    "import matplotlib.pyplot as plt\n",
    "from nltk.corpus import stopwords\n",
    "from Sastrawi.Stemmer.StemmerFactory import StemmerFactory\n",
    "import re\n",
    "from sklearn.feature_extraction.text import TfidfVectorizer\n",
    "from sklearn.preprocessing import LabelEncoder\n",
    "from sklearn.model_selection import train_test_split\n",
    "from sklearn.linear_model import LogisticRegression\n",
    "from sklearn.metrics import accuracy_score, confusion_matrix\n",
    "import pickle"
   ]
  },
  {
   "cell_type": "code",
   "execution_count": 4,
   "id": "cc3c9c72-ae9f-4974-850c-9f117ef61105",
   "metadata": {},
   "outputs": [
    {
     "name": "stderr",
     "output_type": "stream",
     "text": [
      "[nltk_data] Downloading package stopwords to C:\\Users\\EBC\n",
      "[nltk_data]     KOMPUTER\\AppData\\Roaming\\nltk_data...\n",
      "[nltk_data]   Package stopwords is already up-to-date!\n"
     ]
    },
    {
     "data": {
      "text/plain": [
       "True"
      ]
     },
     "execution_count": 4,
     "metadata": {},
     "output_type": "execute_result"
    }
   ],
   "source": [
    "import nltk\n",
    "nltk.download('stopwords')"
   ]
  },
  {
   "cell_type": "code",
   "execution_count": 5,
   "id": "690c17ff-6a42-4905-a35c-250a9fc90022",
   "metadata": {
    "collapsed": true,
    "jupyter": {
     "outputs_hidden": true
    },
    "scrolled": true
   },
   "outputs": [
    {
     "name": "stdout",
     "output_type": "stream",
     "text": [
      "{'dipastikan', 'pukul', 'terlihat', 'dikerjakan', 'memungkinkan', 'sebaiknya', 'pertanyaan', 'kini', 'mengatakan', 'wahai', 'memerlukan', 'tambah', 'semaunya', 'tandasnya', 'akhir', 'tegasnya', 'sudah', 'dia', 'bagi', 'akankah', 'dikatakan', 'diperlukan', 'ditanyai', 'sebagian', 'tentang', 'benarlah', 'kalaulah', 'akhirnya', 'pihak', 'saat', 'juga', 'dipersoalkan', 'tambahnya', 'mau', 'dan', 'ditambahkan', 'kasus', 'disinilah', 'mulailah', 'sewaktu', 'sebisanya', 'sekadarnya', 'tertentu', 'sepihak', 'harusnya', 'kinilah', 'haruslah', 'berkenaan', 'jauh', 'satu', 'sebab', 'cukup', 'perlu', 'bolehlah', 'terjadilah', 'mengira', 'nyatanya', 'sebutlah', 'diberikan', 'mampukah', 'ke', 'mungkinkah', 'masalah', 'turut', 'dimaksudkan', 'kepadanya', 'dahulu', 'bagian', 'setidaknya', 'sedikitnya', 'terjadinya', 'inikah', 'sesama', 'saatnya', 'tidakkah', 'sela', 'didatangkan', 'seenaknya', 'meskipun', 'mereka', 'bahwasanya', 'per', 'katakan', 'kelamaan', 'antar', 'saling', 'dimungkinkan', 'dilakukan', 'ujarnya', 'pertanyakan', 'biasanya', 'ditegaskan', 'dikatakannya', 'kecil', 'berlangsung', 'olehnya', 'mendatangkan', 'tuturnya', 'dibuat', 'segera', 'maupun', 'berakhirlah', 'segalanya', 'siapapun', 'diperlihatkan', 'selamanya', 'kamulah', 'justru', 'tadi', 'seluruh', 'awalnya', 'adalah', 'berakhir', 'sesaat', 'keinginan', 'masih', 'lewat', 'serta', 'diibaratkannya', 'bolehkah', 'mengingatkan', 'sangatlah', 'berupa', 'menyeluruh', 'mempersoalkan', 'bagaimana', 'kamilah', 'semampunya', 'datang', 'saya', 'tentulah', 'beginilah', 'berkeinginan', 'dengan', 'menanyai', 'diibaratkan', 'sejak', 'ditunjukkan', 'seperlunya', 'padanya', 'maka', 'merekalah', 'berbagai', 'yakni', 'terdiri', 'boleh', 'mulanya', 'sebut', 'sekadar', 'soal', 'dimisalkan', 'sinilah', 'mengungkapkan', 'soalnya', 'dirinya', 'percuma', 'pak', 'sementara', 'ia', 'suatu', 'menanti-nanti', 'kata', 'sampai', 'ini', 'seharusnya', 'seperti', 'hingga', 'amatlah', 'sekecil', 'seolah-olah', 'berlalu', 'begitupun', 'cukupkah', 'inginkah', 'masing-masing', 'seorang', 'berada', 'manalagi', 'begitu', 'semasa', 'berturut-turut', 'benarkah', 'dimulai', 'kemudian', 'walau', 'baru', 'belumlah', 'menjadi', 'adapun', 'ditunjuki', 'guna', 'jika', 'sekali-kali', 'diakhirinya', 'bulan', 'berturut', 'tahun', 'berjumlah', 'untuk', 'ibaratnya', 'setiap', 'bermaksud', 'selama', 'pastilah', 'pentingnya', 'sedang', 'membuat', 'keduanya', 'baik', 'asal', 'kedua', 'didapat', 'menjawab', 'selanjutnya', 'itukah', 'sajalah', 'belakang', 'amat', 'malah', 'belakangan', 'tampak', 'meminta', 'rasanya', 'begitukah', 'kalian', 'lalu', 'jawab', 'misalkan', 'janganlah', 'semuanya', 'rupanya', 'jadilah', 'tak', 'tanyanya', 'ditunjuk', 'seberapa', 'sepantasnya', 'hampir', 'diketahui', 'menyampaikan', 'tunjuk', 'ikut', 'diminta', 'waktu', 'berkehendak', 'menyatakan', 'tapi', 'kepada', 'lah', 'tiba-tiba', 'memintakan', 'semata', 'sebegini', 'waduh', 'masihkah', 'wah', 'diungkapkan', 'termasuk', 'ataupun', 'entahlah', 'disebut', 'memastikan', 'kurang', 'persoalan', 'diri', 'seluruhnya', 'dimaksud', 'semula', 'sendirian', 'bagaikan', 'berujar', 'disini', 'tentu', 'memulai', 'andalah', 'ibarat', 'disebutkannya', 'sedemikian', 'disebutkan', 'kami', 'mana', 'teringat-ingat', 'berlebihan', 'bagaimanapun', 'ditunjuknya', 'memihak', 'diucapkannya', 'mengetahui', 'menghendaki', 'dibuatnya', 'asalkan', 'gunakan', 'begitulah', 'lebih', 'dilihat', 'ialah', 'teringat', 'bisakah', 'kapankah', 'terdapat', 'sekitarnya', 'digunakan', 'terdahulu', 'setiba', 'waktunya', 'berapalah', 'bapak', 'secukupnya', 'bukanlah', 'semacam', 'minta', 'menyiapkan', 'rata', 'setempat', 'misalnya', 'sebuah', 'sama-sama', 'misal', 'menandaskan', 'melalui', 'dimulailah', 'siapa', 'dijelaskannya', 'ingat', 'banyak', 'dimaksudkannya', 'ingin', 'seseorang', 'semisalnya', 'bung', 'itu', 'bilakah', 'menuju', 'seingat', 'buat', 'beberapa', 'dong', 'katanya', 'merasa', 'para', 'berkata', 'diperlukannya', 'bermacam-macam', 'menuturkan', 'itulah', 'kalaupun', 'enggak', 'memperkirakan', 'ditunjukkannya', 'jangan', 'semakin', 'bermacam', 'kamu', 'usai', 'mirip', 'berlainan', 'kalau', 'berikan', 'sebelumnya', 'sekurang-kurangnya', 'sangat', 'menunjuk', 'pernah', 'sekaligus', 'lain', 'keseluruhannya', 'atas', 'tiga', 'melihat', 'sedikit', 'keluar', 'diperkirakan', 'sepanjang', 'dulu', 'jadinya', 'meski', 'jumlahnya', 'berapakah', 'biasa', 'terasa', 'sekalian', 'siap', 'tepat', 'mampu', 'hendak', 'sehingga', 'masa', 'bahkan', 'perlunya', 'artinya', 'bertanya', 'kelihatan', 'nyaris', 'sampai-sampai', 'bakal', 'kira', 'mengingat', 'menginginkan', 'meyakini', 'sebenarnya', 'masing', 'tetapi', 'tidaklah', 'sebaik', 'tadinya', 'demikianlah', 'kira-kira', 'secara', 'terhadapnya', 'berakhirnya', 'mendapat', 'selaku', 'bisa', 'menambahkan', 'bagaimanakah', 'bagai', 'melainkan', 'apalagi', 'menegaskan', 'sesuatu', 'harus', 'pasti', 'tersebutlah', 'kemungkinan', 'beginian', 'lamanya', 'nanti', 'demi', 'sejauh', 'ditandaskan', 'pun', 'masalahnya', 'se', 'aku', 'sebaliknya', 'setidak-tidaknya', 'semampu', 'ungkapnya', 'berawal', 'menantikan', 'naik', 'sini', 'diperbuat', 'seketika', 'dua', 'belum', 'awal', 'terjadi', 'hanyalah', 'jumlah', 'bekerja', 'sekitar', 'mempunyai', 'mengenai', 'tandas', 'agaknya', 'ataukah', 'tiap', 'setibanya', 'dipunyai', 'menanyakan', 'diperbuatnya', 'apakah', 'mendapatkan', 'selain', 'pantas', 'tetap', 'jawabnya', 'diantara', 'umum', 'daripada', 'kesampaian', 'merupakan', 'makanya', 'anda', 'benar', 'makin', 'memperlihatkan', 'mengucapkan', 'pertama-tama', 'sepantasnyalah', 'dari', 'melakukan', 'kapanpun', 'mendatang', 'mengibaratkannya', 'diberikannya', 'punya', 'bermula', 'mempertanyakan', 'tersampaikan', 'malahan', 'hendaknya', 'melihatnya', 'dimaksudnya', 'tegas', 'diinginkan', 'pula', 'begini', 'jadi', 'ketika', 'oleh', 'pertama', 'mempersiapkan', 'tiba', 'berikut', 'penting', 'panjang', 'yang', 'keadaan', 'cara', 'hanya', 'sudahkah', 'semua', 'mengucapkannya', 'kapan', 'jelasnya', 'memperbuat', 'dekat', 'sebutnya', 'sebelum', 'sekarang', 'wong', 'kiranya', 'setinggi', 'lanjut', 'nah', 'mengapa', 'mempergunakan', 'terbanyak', 'kitalah', 'bila', 'adanya', 'disampaikan', 'sesekali', 'sebanyak', 'ibaratkan', 'namun', 'terhadap', 'jawaban', 'keseluruhan', 'apabila', 'karenanya', 'mendatangi', 'apatah', 'karena', 'mengatakannya', 'tidak', 'berapapun', 'akhiri', 'sampaikan', 'inilah', 'dikira', 'diantaranya', 'manakala', 'tanpa', 'lama', 'mengibaratkan', 'pada', 'katakanlah', 'padahal', 'agak', 'ibu', 'terutama', 'terus', 'dipertanyakan', 'menggunakan', 'diketahuinya', 'besar', 'ingat-ingat', 'depan', 'inginkan', 'sebagaimana', 'terakhir', 'sebagainya', 'bertanya-tanya', 'dijelaskan', 'toh', 'walaupun', 'sesudah', 'meyakinkan', 'dini', 'nantinya', 'kemungkinannya', 'antara', 'khususnya', 'bertutur', 'sempat', 'di', 'saja', 'demikian', 'diberi', 'menanti', 'jelaslah', 'seolah', 'memberikan', 'bawah', 'kan', 'dialah', 'empat', 'lima', 'sejumlah', 'sebagai', 'seterusnya', 'dimulainya', 'supaya', 'balik', 'sebabnya', 'sama', 'sebaik-baiknya', 'kita', 'siapakah', 'bakalan', 'lagian', 'sekurangnya', 'diucapkan', 'selalu', 'seringnya', 'sedangkan', 'bukannya', 'tanyakan', 'sekiranya', 'dijawab', 'ditanyakan', 'dalam', 'menunjuki', 'tanya', 'memisalkan', 'pihaknya', 'berapa', 'serupa', 'apaan', 'sayalah', 'sebetulnya', 'ujar', 'bersiap-siap', 'akulah', 'hal', 'hari', 'dilalui', 'sesampai', 'rasa', 'berikutnya', 'jelaskan', 'luar', 'kenapa', 'setelah', 'berarti', 'ada', 'kembali', 'tinggi', 'bukankah', 'semisal', 'menyangkut', 'sudahlah', 'umumnya', 'diingat', 'ucapnya', 'antaranya', 'kebetulan', 'tahu', 'tempat', 'beri', 'menjelaskan', 'apa', 'kelima', 'enggaknya', 'semata-mata', 'sesuatunya', 'tengah', 'ucap', 'sekalipun', 'menunjukkan', 'dimintai', 'memang', 'dikarenakan', 'sejenak', 'seusai', 'dapat', 'ditanya', 'kok', 'jelas', 'menunjuknya', 'mulai', 'betul', 'tutur', 'menanya', 'sendiri', 'cukuplah', 'kala', 'selama-lamanya', 'sendirinya', 'paling', 'beginikah', 'berdatangan', 'telah', 'bersiap', 'entah', 'hendaklah', 'tentunya', 'macam', 'memberi', 'caranya', 'bahwa', 'sana', 'mula', 'dipergunakan', 'menurut', 'yaitu', 'yakin', 'menyebutkan', 'sesudahnya', 'tersebut', 'sebesar', 'sesegera', 'lagi', 'mengerjakan', 'tampaknya', 'terlalu', 'agar', 'sering', 'menaiki', 'setengah', 'semasih', 'sebegitu', 'diingatkan', 'terkira', 'cuma', 'sekali', 'segala', 'atau', 'betulkah', 'lainnya', 'terlebih', 'ditujukan', 'diakhiri', 'tertuju', 'dituturkan', 'kelihatannya', 'ungkap', 'berkali-kali', 'dituturkannya', 'perlukah', 'lanjutnya', 'mengakhiri', 'sepertinya', 'keterlaluan', 'mungkin', 'bukan', 'bersama-sama', 'sambil', 'jikalau', 'akan', 'ternyata', 'usah', 'bersama', 'jangankan'}\n"
     ]
    }
   ],
   "source": [
    "stop_words = set(stopwords.words('indonesian'))\n",
    "\n",
    "# new_stopwords = ['newword1', 'newword2']\n",
    "# stop_words.update(new_stopwords)\n",
    "\n",
    "print(stop_words)"
   ]
  },
  {
   "cell_type": "code",
   "execution_count": 6,
   "id": "0fbfe5fd-6c63-4dd5-937c-ff2fa096245e",
   "metadata": {},
   "outputs": [
    {
     "name": "stderr",
     "output_type": "stream",
     "text": [
      "Downloading...\n",
      "From: https://drive.google.com/uc?id=1-tr5TV3kjdvsHocZM3f7KoDA_ZEIAJwR\n",
      "To: C:\\Users\\EBC KOMPUTER\\Documents\\Jupyter Notebook\\PPW\\Tugas 3\\crawling_2_kategori.csv\n",
      "100%|████████████████████████████████████████████████████████████████████████████████| 259k/259k [00:00<00:00, 520kB/s]\n"
     ]
    },
    {
     "data": {
      "text/plain": [
       "'crawling_2_kategori.csv'"
      ]
     },
     "execution_count": 6,
     "metadata": {},
     "output_type": "execute_result"
    }
   ],
   "source": [
    "# Ganti dengan ID file Anda\n",
    "file_id = '1-tr5TV3kjdvsHocZM3f7KoDA_ZEIAJwR'\n",
    "url = f'https://drive.google.com/uc?id={file_id}'\n",
    "output = 'crawling_2_kategori.csv'\n",
    "\n",
    "# Unduh file dari Google Drive\n",
    "gdown.download(url, output, quiet=False)"
   ]
  },
  {
   "cell_type": "code",
   "execution_count": 7,
   "id": "e7366aba-5561-40e9-afc4-83c7ebea8b27",
   "metadata": {},
   "outputs": [],
   "source": [
    "# Membaca file CSV ke DataFrame\n",
    "df = pd.read_csv(output)"
   ]
  },
  {
   "cell_type": "markdown",
   "id": "836748b0-ddf4-4f1d-b29d-699b4fb72d31",
   "metadata": {},
   "source": [
    "## Dataset"
   ]
  },
  {
   "cell_type": "code",
   "execution_count": 8,
   "id": "feb0e2b3-a59b-4f57-a071-8c6409ff26c4",
   "metadata": {},
   "outputs": [
    {
     "data": {
      "text/html": [
       "<div>\n",
       "<style scoped>\n",
       "    .dataframe tbody tr th:only-of-type {\n",
       "        vertical-align: middle;\n",
       "    }\n",
       "\n",
       "    .dataframe tbody tr th {\n",
       "        vertical-align: top;\n",
       "    }\n",
       "\n",
       "    .dataframe thead th {\n",
       "        text-align: right;\n",
       "    }\n",
       "</style>\n",
       "<table border=\"1\" class=\"dataframe\">\n",
       "  <thead>\n",
       "    <tr style=\"text-align: right;\">\n",
       "      <th></th>\n",
       "      <th>title</th>\n",
       "      <th>content</th>\n",
       "      <th>date</th>\n",
       "      <th>category</th>\n",
       "    </tr>\n",
       "  </thead>\n",
       "  <tbody>\n",
       "    <tr>\n",
       "      <th>0</th>\n",
       "      <td>Apa yang Harus Dilakukan jika Obesitas? Ini Re...</td>\n",
       "      <td>KOMPAS.com - Orang dengan obesitas lebih mungk...</td>\n",
       "      <td>18/09/2024</td>\n",
       "      <td>HEALTH</td>\n",
       "    </tr>\n",
       "    <tr>\n",
       "      <th>1</th>\n",
       "      <td>Apakah Baik Makan Buah untuk Sarapan? Ini Penj...</td>\n",
       "      <td>KOMPAS.com - Buah bisa menjadi pilihan menu ya...</td>\n",
       "      <td>18/09/2024</td>\n",
       "      <td>HEALTH</td>\n",
       "    </tr>\n",
       "    <tr>\n",
       "      <th>2</th>\n",
       "      <td>Tanda Malanutrisi pada Anak dan Dewasa</td>\n",
       "      <td>KOMPAS.com - Malanutrisi merupakan masalah kes...</td>\n",
       "      <td>18/09/2024</td>\n",
       "      <td>HEALTH</td>\n",
       "    </tr>\n",
       "    <tr>\n",
       "      <th>3</th>\n",
       "      <td>Anak Sering Berkeringat Saat Tidur, Tanda Peny...</td>\n",
       "      <td>KOMPAS.com - Berkeringat merupakan cara alami ...</td>\n",
       "      <td>18/09/2024</td>\n",
       "      <td>HEALTH</td>\n",
       "    </tr>\n",
       "    <tr>\n",
       "      <th>4</th>\n",
       "      <td>Kenali Perkembangan Motorik Normal pada Bayi, ...</td>\n",
       "      <td>KOMPAS.com - Ikatan Dokter Anak Indonesia (IDA...</td>\n",
       "      <td>18/09/2024</td>\n",
       "      <td>HEALTH</td>\n",
       "    </tr>\n",
       "    <tr>\n",
       "      <th>...</th>\n",
       "      <td>...</td>\n",
       "      <td>...</td>\n",
       "      <td>...</td>\n",
       "      <td>...</td>\n",
       "    </tr>\n",
       "    <tr>\n",
       "      <th>95</th>\n",
       "      <td>9 Tips ke Jak-Japan Matsuri 2024, Bisa Beli Ti...</td>\n",
       "      <td>JAKARTA, KOMPAS.com - Ribuan orang nampak berg...</td>\n",
       "      <td>15/09/2024</td>\n",
       "      <td>TRAVEL</td>\n",
       "    </tr>\n",
       "    <tr>\n",
       "      <th>96</th>\n",
       "      <td>Waktu Terbaik Lihat Hiu Paus di Botubarani Gor...</td>\n",
       "      <td>KOMPAS.com - Provinsi Gorontalo di Pulau Sulaw...</td>\n",
       "      <td>14/09/2024</td>\n",
       "      <td>TRAVEL</td>\n",
       "    </tr>\n",
       "    <tr>\n",
       "      <th>97</th>\n",
       "      <td>14 orang Ditangkap Akibat Pendakian Ilegal di ...</td>\n",
       "      <td>KOMPAS.com - Jalur pendakian yang indah di Haw...</td>\n",
       "      <td>14/09/2024</td>\n",
       "      <td>TRAVEL</td>\n",
       "    </tr>\n",
       "    <tr>\n",
       "      <th>98</th>\n",
       "      <td>Harga Paket Outbound Pondok Zidane, Banyak Pil...</td>\n",
       "      <td>KOMPAS.com - Menikmati waktu berkualitas bersa...</td>\n",
       "      <td>14/09/2024</td>\n",
       "      <td>TRAVEL</td>\n",
       "    </tr>\n",
       "    <tr>\n",
       "      <th>99</th>\n",
       "      <td>Kursi Kelas Satu Jadi Beban, Maskapai di Swiss...</td>\n",
       "      <td>KOMPAS.com – Karena memiliki model kursi kelas...</td>\n",
       "      <td>14/09/2024</td>\n",
       "      <td>TRAVEL</td>\n",
       "    </tr>\n",
       "  </tbody>\n",
       "</table>\n",
       "<p>100 rows × 4 columns</p>\n",
       "</div>"
      ],
      "text/plain": [
       "                                                title  \\\n",
       "0   Apa yang Harus Dilakukan jika Obesitas? Ini Re...   \n",
       "1   Apakah Baik Makan Buah untuk Sarapan? Ini Penj...   \n",
       "2              Tanda Malanutrisi pada Anak dan Dewasa   \n",
       "3   Anak Sering Berkeringat Saat Tidur, Tanda Peny...   \n",
       "4   Kenali Perkembangan Motorik Normal pada Bayi, ...   \n",
       "..                                                ...   \n",
       "95  9 Tips ke Jak-Japan Matsuri 2024, Bisa Beli Ti...   \n",
       "96  Waktu Terbaik Lihat Hiu Paus di Botubarani Gor...   \n",
       "97  14 orang Ditangkap Akibat Pendakian Ilegal di ...   \n",
       "98  Harga Paket Outbound Pondok Zidane, Banyak Pil...   \n",
       "99  Kursi Kelas Satu Jadi Beban, Maskapai di Swiss...   \n",
       "\n",
       "                                              content        date category  \n",
       "0   KOMPAS.com - Orang dengan obesitas lebih mungk...  18/09/2024   HEALTH  \n",
       "1   KOMPAS.com - Buah bisa menjadi pilihan menu ya...  18/09/2024   HEALTH  \n",
       "2   KOMPAS.com - Malanutrisi merupakan masalah kes...  18/09/2024   HEALTH  \n",
       "3   KOMPAS.com - Berkeringat merupakan cara alami ...  18/09/2024   HEALTH  \n",
       "4   KOMPAS.com - Ikatan Dokter Anak Indonesia (IDA...  18/09/2024   HEALTH  \n",
       "..                                                ...         ...      ...  \n",
       "95  JAKARTA, KOMPAS.com - Ribuan orang nampak berg...  15/09/2024   TRAVEL  \n",
       "96  KOMPAS.com - Provinsi Gorontalo di Pulau Sulaw...  14/09/2024   TRAVEL  \n",
       "97  KOMPAS.com - Jalur pendakian yang indah di Haw...  14/09/2024   TRAVEL  \n",
       "98  KOMPAS.com - Menikmati waktu berkualitas bersa...  14/09/2024   TRAVEL  \n",
       "99  KOMPAS.com – Karena memiliki model kursi kelas...  14/09/2024   TRAVEL  \n",
       "\n",
       "[100 rows x 4 columns]"
      ]
     },
     "execution_count": 8,
     "metadata": {},
     "output_type": "execute_result"
    }
   ],
   "source": [
    "df"
   ]
  },
  {
   "cell_type": "markdown",
   "id": "bca11647-ec7d-4504-bb05-f7d7def7557e",
   "metadata": {},
   "source": [
    "## Jumlah Dataset Per Label"
   ]
  },
  {
   "cell_type": "code",
   "execution_count": 9,
   "id": "18ca2a54-aa6f-49bb-8a6b-479b010bead7",
   "metadata": {},
   "outputs": [
    {
     "data": {
      "image/png": "[encoded data removed]",
      "text/plain": [
       "<Figure size 1000x600 with 1 Axes>"
      ]
     },
     "metadata": {},
     "output_type": "display_data"
    }
   ],
   "source": [
    "# Hitung jumlah artikel per kategori\n",
    "category_counts = df['category'].value_counts()\n",
    "\n",
    "# Tampilkan grafik batang\n",
    "plt.figure(figsize=(10, 6))\n",
    "category_counts.plot(kind='bar', color='skyblue')\n",
    "plt.title('Jumlah Artikel per Kategori')\n",
    "plt.xlabel('Kategori')\n",
    "plt.ylabel('Jumlah Artikel')\n",
    "plt.xticks(rotation=45)\n",
    "plt.tight_layout()\n",
    "plt.show()"
   ]
  },
  {
   "cell_type": "markdown",
   "id": "d48a9d3d-9414-4d4b-a705-ca4402877caa",
   "metadata": {},
   "source": [
    "## Preprocessing"
   ]
  },
  {
   "cell_type": "markdown",
   "id": "a0ac424a-798f-4484-9f27-41e7dcc36aeb",
   "metadata": {},
   "source": [
    "### Transformasi Data "
   ]
  },
  {
   "cell_type": "markdown",
   "id": "f472fb5b-aae2-4321-9397-cbab60864f5a",
   "metadata": {},
   "source": [
    "#### Label Encoder\n",
    "\n",
    "0 = Health\n",
    "\n",
    "1 = Travel"
   ]
  },
  {
   "cell_type": "code",
   "execution_count": 10,
   "id": "6d032a68-f4f5-4e7c-8c0a-b96cee30336d",
   "metadata": {},
   "outputs": [],
   "source": [
    "X = df.drop(columns = 'category')\n",
    "Y = df['category']"
   ]
  },
  {
   "cell_type": "code",
   "execution_count": 11,
   "id": "c91c86df-cee0-4f90-ab63-5f71386d1d3e",
   "metadata": {},
   "outputs": [
    {
     "name": "stdout",
     "output_type": "stream",
     "text": [
      "\n",
      "Encoded Labels:\n"
     ]
    },
    {
     "data": {
      "text/html": [
       "<div>\n",
       "<style scoped>\n",
       "    .dataframe tbody tr th:only-of-type {\n",
       "        vertical-align: middle;\n",
       "    }\n",
       "\n",
       "    .dataframe tbody tr th {\n",
       "        vertical-align: top;\n",
       "    }\n",
       "\n",
       "    .dataframe thead th {\n",
       "        text-align: right;\n",
       "    }\n",
       "</style>\n",
       "<table border=\"1\" class=\"dataframe\">\n",
       "  <thead>\n",
       "    <tr style=\"text-align: right;\">\n",
       "      <th></th>\n",
       "      <th>title</th>\n",
       "      <th>content</th>\n",
       "      <th>date</th>\n",
       "      <th>category</th>\n",
       "    </tr>\n",
       "  </thead>\n",
       "  <tbody>\n",
       "    <tr>\n",
       "      <th>0</th>\n",
       "      <td>Apa yang Harus Dilakukan jika Obesitas? Ini Re...</td>\n",
       "      <td>KOMPAS.com - Orang dengan obesitas lebih mungk...</td>\n",
       "      <td>18/09/2024</td>\n",
       "      <td>0</td>\n",
       "    </tr>\n",
       "    <tr>\n",
       "      <th>1</th>\n",
       "      <td>Apakah Baik Makan Buah untuk Sarapan? Ini Penj...</td>\n",
       "      <td>KOMPAS.com - Buah bisa menjadi pilihan menu ya...</td>\n",
       "      <td>18/09/2024</td>\n",
       "      <td>0</td>\n",
       "    </tr>\n",
       "    <tr>\n",
       "      <th>2</th>\n",
       "      <td>Tanda Malanutrisi pada Anak dan Dewasa</td>\n",
       "      <td>KOMPAS.com - Malanutrisi merupakan masalah kes...</td>\n",
       "      <td>18/09/2024</td>\n",
       "      <td>0</td>\n",
       "    </tr>\n",
       "    <tr>\n",
       "      <th>3</th>\n",
       "      <td>Anak Sering Berkeringat Saat Tidur, Tanda Peny...</td>\n",
       "      <td>KOMPAS.com - Berkeringat merupakan cara alami ...</td>\n",
       "      <td>18/09/2024</td>\n",
       "      <td>0</td>\n",
       "    </tr>\n",
       "    <tr>\n",
       "      <th>4</th>\n",
       "      <td>Kenali Perkembangan Motorik Normal pada Bayi, ...</td>\n",
       "      <td>KOMPAS.com - Ikatan Dokter Anak Indonesia (IDA...</td>\n",
       "      <td>18/09/2024</td>\n",
       "      <td>0</td>\n",
       "    </tr>\n",
       "    <tr>\n",
       "      <th>...</th>\n",
       "      <td>...</td>\n",
       "      <td>...</td>\n",
       "      <td>...</td>\n",
       "      <td>...</td>\n",
       "    </tr>\n",
       "    <tr>\n",
       "      <th>95</th>\n",
       "      <td>9 Tips ke Jak-Japan Matsuri 2024, Bisa Beli Ti...</td>\n",
       "      <td>JAKARTA, KOMPAS.com - Ribuan orang nampak berg...</td>\n",
       "      <td>15/09/2024</td>\n",
       "      <td>1</td>\n",
       "    </tr>\n",
       "    <tr>\n",
       "      <th>96</th>\n",
       "      <td>Waktu Terbaik Lihat Hiu Paus di Botubarani Gor...</td>\n",
       "      <td>KOMPAS.com - Provinsi Gorontalo di Pulau Sulaw...</td>\n",
       "      <td>14/09/2024</td>\n",
       "      <td>1</td>\n",
       "    </tr>\n",
       "    <tr>\n",
       "      <th>97</th>\n",
       "      <td>14 orang Ditangkap Akibat Pendakian Ilegal di ...</td>\n",
       "      <td>KOMPAS.com - Jalur pendakian yang indah di Haw...</td>\n",
       "      <td>14/09/2024</td>\n",
       "      <td>1</td>\n",
       "    </tr>\n",
       "    <tr>\n",
       "      <th>98</th>\n",
       "      <td>Harga Paket Outbound Pondok Zidane, Banyak Pil...</td>\n",
       "      <td>KOMPAS.com - Menikmati waktu berkualitas bersa...</td>\n",
       "      <td>14/09/2024</td>\n",
       "      <td>1</td>\n",
       "    </tr>\n",
       "    <tr>\n",
       "      <th>99</th>\n",
       "      <td>Kursi Kelas Satu Jadi Beban, Maskapai di Swiss...</td>\n",
       "      <td>KOMPAS.com – Karena memiliki model kursi kelas...</td>\n",
       "      <td>14/09/2024</td>\n",
       "      <td>1</td>\n",
       "    </tr>\n",
       "  </tbody>\n",
       "</table>\n",
       "<p>100 rows × 4 columns</p>\n",
       "</div>"
      ],
      "text/plain": [
       "                                                title  \\\n",
       "0   Apa yang Harus Dilakukan jika Obesitas? Ini Re...   \n",
       "1   Apakah Baik Makan Buah untuk Sarapan? Ini Penj...   \n",
       "2              Tanda Malanutrisi pada Anak dan Dewasa   \n",
       "3   Anak Sering Berkeringat Saat Tidur, Tanda Peny...   \n",
       "4   Kenali Perkembangan Motorik Normal pada Bayi, ...   \n",
       "..                                                ...   \n",
       "95  9 Tips ke Jak-Japan Matsuri 2024, Bisa Beli Ti...   \n",
       "96  Waktu Terbaik Lihat Hiu Paus di Botubarani Gor...   \n",
       "97  14 orang Ditangkap Akibat Pendakian Ilegal di ...   \n",
       "98  Harga Paket Outbound Pondok Zidane, Banyak Pil...   \n",
       "99  Kursi Kelas Satu Jadi Beban, Maskapai di Swiss...   \n",
       "\n",
       "                                              content        date  category  \n",
       "0   KOMPAS.com - Orang dengan obesitas lebih mungk...  18/09/2024         0  \n",
       "1   KOMPAS.com - Buah bisa menjadi pilihan menu ya...  18/09/2024         0  \n",
       "2   KOMPAS.com - Malanutrisi merupakan masalah kes...  18/09/2024         0  \n",
       "3   KOMPAS.com - Berkeringat merupakan cara alami ...  18/09/2024         0  \n",
       "4   KOMPAS.com - Ikatan Dokter Anak Indonesia (IDA...  18/09/2024         0  \n",
       "..                                                ...         ...       ...  \n",
       "95  JAKARTA, KOMPAS.com - Ribuan orang nampak berg...  15/09/2024         1  \n",
       "96  KOMPAS.com - Provinsi Gorontalo di Pulau Sulaw...  14/09/2024         1  \n",
       "97  KOMPAS.com - Jalur pendakian yang indah di Haw...  14/09/2024         1  \n",
       "98  KOMPAS.com - Menikmati waktu berkualitas bersa...  14/09/2024         1  \n",
       "99  KOMPAS.com – Karena memiliki model kursi kelas...  14/09/2024         1  \n",
       "\n",
       "[100 rows x 4 columns]"
      ]
     },
     "execution_count": 11,
     "metadata": {},
     "output_type": "execute_result"
    }
   ],
   "source": [
    "label_encoder = LabelEncoder()\n",
    "\n",
    "# Fit and transform the labels\n",
    "df['category'] = label_encoder.fit_transform(df['category'])\n",
    "print(\"\\nEncoded Labels:\")\n",
    "\n",
    "df"
   ]
  },
  {
   "cell_type": "markdown",
   "id": "38f4fd79-74ad-4d2a-b031-3300dd20c409",
   "metadata": {},
   "source": [
    "### Text Preprocessing"
   ]
  },
  {
   "cell_type": "markdown",
   "id": "98216ef8-db80-4115-a72c-e433ecf13faf",
   "metadata": {},
   "source": [
    "#### Lower Case"
   ]
  },
  {
   "cell_type": "code",
   "execution_count": 12,
   "id": "f3115340-0bd4-4d31-82e0-3d26a25d6426",
   "metadata": {},
   "outputs": [
    {
     "data": {
      "text/html": [
       "<div>\n",
       "<style scoped>\n",
       "    .dataframe tbody tr th:only-of-type {\n",
       "        vertical-align: middle;\n",
       "    }\n",
       "\n",
       "    .dataframe tbody tr th {\n",
       "        vertical-align: top;\n",
       "    }\n",
       "\n",
       "    .dataframe thead th {\n",
       "        text-align: right;\n",
       "    }\n",
       "</style>\n",
       "<table border=\"1\" class=\"dataframe\">\n",
       "  <thead>\n",
       "    <tr style=\"text-align: right;\">\n",
       "      <th></th>\n",
       "      <th>content</th>\n",
       "      <th>lower_text</th>\n",
       "    </tr>\n",
       "  </thead>\n",
       "  <tbody>\n",
       "    <tr>\n",
       "      <th>0</th>\n",
       "      <td>KOMPAS.com - Orang dengan obesitas lebih mungk...</td>\n",
       "      <td>kompas.com - orang dengan obesitas lebih mungk...</td>\n",
       "    </tr>\n",
       "    <tr>\n",
       "      <th>1</th>\n",
       "      <td>KOMPAS.com - Buah bisa menjadi pilihan menu ya...</td>\n",
       "      <td>kompas.com - buah bisa menjadi pilihan menu ya...</td>\n",
       "    </tr>\n",
       "    <tr>\n",
       "      <th>2</th>\n",
       "      <td>KOMPAS.com - Malanutrisi merupakan masalah kes...</td>\n",
       "      <td>kompas.com - malanutrisi merupakan masalah kes...</td>\n",
       "    </tr>\n",
       "    <tr>\n",
       "      <th>3</th>\n",
       "      <td>KOMPAS.com - Berkeringat merupakan cara alami ...</td>\n",
       "      <td>kompas.com - berkeringat merupakan cara alami ...</td>\n",
       "    </tr>\n",
       "    <tr>\n",
       "      <th>4</th>\n",
       "      <td>KOMPAS.com - Ikatan Dokter Anak Indonesia (IDA...</td>\n",
       "      <td>kompas.com - ikatan dokter anak indonesia (ida...</td>\n",
       "    </tr>\n",
       "    <tr>\n",
       "      <th>...</th>\n",
       "      <td>...</td>\n",
       "      <td>...</td>\n",
       "    </tr>\n",
       "    <tr>\n",
       "      <th>95</th>\n",
       "      <td>JAKARTA, KOMPAS.com - Ribuan orang nampak berg...</td>\n",
       "      <td>jakarta, kompas.com - ribuan orang nampak berg...</td>\n",
       "    </tr>\n",
       "    <tr>\n",
       "      <th>96</th>\n",
       "      <td>KOMPAS.com - Provinsi Gorontalo di Pulau Sulaw...</td>\n",
       "      <td>kompas.com - provinsi gorontalo di pulau sulaw...</td>\n",
       "    </tr>\n",
       "    <tr>\n",
       "      <th>97</th>\n",
       "      <td>KOMPAS.com - Jalur pendakian yang indah di Haw...</td>\n",
       "      <td>kompas.com - jalur pendakian yang indah di haw...</td>\n",
       "    </tr>\n",
       "    <tr>\n",
       "      <th>98</th>\n",
       "      <td>KOMPAS.com - Menikmati waktu berkualitas bersa...</td>\n",
       "      <td>kompas.com - menikmati waktu berkualitas bersa...</td>\n",
       "    </tr>\n",
       "    <tr>\n",
       "      <th>99</th>\n",
       "      <td>KOMPAS.com – Karena memiliki model kursi kelas...</td>\n",
       "      <td>kompas.com – karena memiliki model kursi kelas...</td>\n",
       "    </tr>\n",
       "  </tbody>\n",
       "</table>\n",
       "<p>100 rows × 2 columns</p>\n",
       "</div>"
      ],
      "text/plain": [
       "                                              content  \\\n",
       "0   KOMPAS.com - Orang dengan obesitas lebih mungk...   \n",
       "1   KOMPAS.com - Buah bisa menjadi pilihan menu ya...   \n",
       "2   KOMPAS.com - Malanutrisi merupakan masalah kes...   \n",
       "3   KOMPAS.com - Berkeringat merupakan cara alami ...   \n",
       "4   KOMPAS.com - Ikatan Dokter Anak Indonesia (IDA...   \n",
       "..                                                ...   \n",
       "95  JAKARTA, KOMPAS.com - Ribuan orang nampak berg...   \n",
       "96  KOMPAS.com - Provinsi Gorontalo di Pulau Sulaw...   \n",
       "97  KOMPAS.com - Jalur pendakian yang indah di Haw...   \n",
       "98  KOMPAS.com - Menikmati waktu berkualitas bersa...   \n",
       "99  KOMPAS.com – Karena memiliki model kursi kelas...   \n",
       "\n",
       "                                           lower_text  \n",
       "0   kompas.com - orang dengan obesitas lebih mungk...  \n",
       "1   kompas.com - buah bisa menjadi pilihan menu ya...  \n",
       "2   kompas.com - malanutrisi merupakan masalah kes...  \n",
       "3   kompas.com - berkeringat merupakan cara alami ...  \n",
       "4   kompas.com - ikatan dokter anak indonesia (ida...  \n",
       "..                                                ...  \n",
       "95  jakarta, kompas.com - ribuan orang nampak berg...  \n",
       "96  kompas.com - provinsi gorontalo di pulau sulaw...  \n",
       "97  kompas.com - jalur pendakian yang indah di haw...  \n",
       "98  kompas.com - menikmati waktu berkualitas bersa...  \n",
       "99  kompas.com – karena memiliki model kursi kelas...  \n",
       "\n",
       "[100 rows x 2 columns]"
      ]
     },
     "execution_count": 12,
     "metadata": {},
     "output_type": "execute_result"
    }
   ],
   "source": [
    "df['lower_text'] = df['content'].str.lower()\n",
    "\n",
    "df[['content', 'lower_text']]"
   ]
  },
  {
   "cell_type": "markdown",
   "id": "b684f74d-4ef4-42eb-9946-a0403005c87c",
   "metadata": {},
   "source": [
    "#### Cleansing Text"
   ]
  },
  {
   "cell_type": "code",
   "execution_count": 13,
   "id": "fd06234a-27c1-486d-a6a1-f1118cb02990",
   "metadata": {},
   "outputs": [
    {
     "data": {
      "text/html": [
       "<div>\n",
       "<style scoped>\n",
       "    .dataframe tbody tr th:only-of-type {\n",
       "        vertical-align: middle;\n",
       "    }\n",
       "\n",
       "    .dataframe tbody tr th {\n",
       "        vertical-align: top;\n",
       "    }\n",
       "\n",
       "    .dataframe thead th {\n",
       "        text-align: right;\n",
       "    }\n",
       "</style>\n",
       "<table border=\"1\" class=\"dataframe\">\n",
       "  <thead>\n",
       "    <tr style=\"text-align: right;\">\n",
       "      <th></th>\n",
       "      <th>lower_text</th>\n",
       "      <th>cleaned_text</th>\n",
       "    </tr>\n",
       "  </thead>\n",
       "  <tbody>\n",
       "    <tr>\n",
       "      <th>0</th>\n",
       "      <td>kompas.com - orang dengan obesitas lebih mungk...</td>\n",
       "      <td>kompas com   orang dengan obesitas lebih mungk...</td>\n",
       "    </tr>\n",
       "    <tr>\n",
       "      <th>1</th>\n",
       "      <td>kompas.com - buah bisa menjadi pilihan menu ya...</td>\n",
       "      <td>kompas com   buah bisa menjadi pilihan menu ya...</td>\n",
       "    </tr>\n",
       "    <tr>\n",
       "      <th>2</th>\n",
       "      <td>kompas.com - malanutrisi merupakan masalah kes...</td>\n",
       "      <td>kompas com   malanutrisi merupakan masalah kes...</td>\n",
       "    </tr>\n",
       "    <tr>\n",
       "      <th>3</th>\n",
       "      <td>kompas.com - berkeringat merupakan cara alami ...</td>\n",
       "      <td>kompas com   berkeringat merupakan cara alami ...</td>\n",
       "    </tr>\n",
       "    <tr>\n",
       "      <th>4</th>\n",
       "      <td>kompas.com - ikatan dokter anak indonesia (ida...</td>\n",
       "      <td>kompas com   ikatan dokter anak indonesia  ida...</td>\n",
       "    </tr>\n",
       "    <tr>\n",
       "      <th>...</th>\n",
       "      <td>...</td>\n",
       "      <td>...</td>\n",
       "    </tr>\n",
       "    <tr>\n",
       "      <th>95</th>\n",
       "      <td>jakarta, kompas.com - ribuan orang nampak berg...</td>\n",
       "      <td>jakarta  kompas com   ribuan orang nampak berg...</td>\n",
       "    </tr>\n",
       "    <tr>\n",
       "      <th>96</th>\n",
       "      <td>kompas.com - provinsi gorontalo di pulau sulaw...</td>\n",
       "      <td>kompas com   provinsi gorontalo di pulau sulaw...</td>\n",
       "    </tr>\n",
       "    <tr>\n",
       "      <th>97</th>\n",
       "      <td>kompas.com - jalur pendakian yang indah di haw...</td>\n",
       "      <td>kompas com   jalur pendakian yang indah di haw...</td>\n",
       "    </tr>\n",
       "    <tr>\n",
       "      <th>98</th>\n",
       "      <td>kompas.com - menikmati waktu berkualitas bersa...</td>\n",
       "      <td>kompas com   menikmati waktu berkualitas bersa...</td>\n",
       "    </tr>\n",
       "    <tr>\n",
       "      <th>99</th>\n",
       "      <td>kompas.com – karena memiliki model kursi kelas...</td>\n",
       "      <td>kompas com   karena memiliki model kursi kelas...</td>\n",
       "    </tr>\n",
       "  </tbody>\n",
       "</table>\n",
       "<p>100 rows × 2 columns</p>\n",
       "</div>"
      ],
      "text/plain": [
       "                                           lower_text  \\\n",
       "0   kompas.com - orang dengan obesitas lebih mungk...   \n",
       "1   kompas.com - buah bisa menjadi pilihan menu ya...   \n",
       "2   kompas.com - malanutrisi merupakan masalah kes...   \n",
       "3   kompas.com - berkeringat merupakan cara alami ...   \n",
       "4   kompas.com - ikatan dokter anak indonesia (ida...   \n",
       "..                                                ...   \n",
       "95  jakarta, kompas.com - ribuan orang nampak berg...   \n",
       "96  kompas.com - provinsi gorontalo di pulau sulaw...   \n",
       "97  kompas.com - jalur pendakian yang indah di haw...   \n",
       "98  kompas.com - menikmati waktu berkualitas bersa...   \n",
       "99  kompas.com – karena memiliki model kursi kelas...   \n",
       "\n",
       "                                         cleaned_text  \n",
       "0   kompas com   orang dengan obesitas lebih mungk...  \n",
       "1   kompas com   buah bisa menjadi pilihan menu ya...  \n",
       "2   kompas com   malanutrisi merupakan masalah kes...  \n",
       "3   kompas com   berkeringat merupakan cara alami ...  \n",
       "4   kompas com   ikatan dokter anak indonesia  ida...  \n",
       "..                                                ...  \n",
       "95  jakarta  kompas com   ribuan orang nampak berg...  \n",
       "96  kompas com   provinsi gorontalo di pulau sulaw...  \n",
       "97  kompas com   jalur pendakian yang indah di haw...  \n",
       "98  kompas com   menikmati waktu berkualitas bersa...  \n",
       "99  kompas com   karena memiliki model kursi kelas...  \n",
       "\n",
       "[100 rows x 2 columns]"
      ]
     },
     "execution_count": 13,
     "metadata": {},
     "output_type": "execute_result"
    }
   ],
   "source": [
    "df['cleaned_text'] = df['lower_text'].apply(lambda text: re.sub(r'\\W', ' ', text))\n",
    "\n",
    "df[['lower_text', 'cleaned_text']]"
   ]
  },
  {
   "cell_type": "markdown",
   "id": "af4e8531-586c-4ef7-a962-4d29ac90b40c",
   "metadata": {},
   "source": [
    "#### Tokenisasi"
   ]
  },
  {
   "cell_type": "code",
   "execution_count": 14,
   "id": "e5627332-482d-4fae-a2e6-d5893d6d2ac6",
   "metadata": {},
   "outputs": [
    {
     "data": {
      "text/html": [
       "<div>\n",
       "<style scoped>\n",
       "    .dataframe tbody tr th:only-of-type {\n",
       "        vertical-align: middle;\n",
       "    }\n",
       "\n",
       "    .dataframe tbody tr th {\n",
       "        vertical-align: top;\n",
       "    }\n",
       "\n",
       "    .dataframe thead th {\n",
       "        text-align: right;\n",
       "    }\n",
       "</style>\n",
       "<table border=\"1\" class=\"dataframe\">\n",
       "  <thead>\n",
       "    <tr style=\"text-align: right;\">\n",
       "      <th></th>\n",
       "      <th>cleaned_text</th>\n",
       "      <th>tokenized_text</th>\n",
       "    </tr>\n",
       "  </thead>\n",
       "  <tbody>\n",
       "    <tr>\n",
       "      <th>0</th>\n",
       "      <td>kompas com   orang dengan obesitas lebih mungk...</td>\n",
       "      <td>[kompas, com, orang, dengan, obesitas, lebih, ...</td>\n",
       "    </tr>\n",
       "    <tr>\n",
       "      <th>1</th>\n",
       "      <td>kompas com   buah bisa menjadi pilihan menu ya...</td>\n",
       "      <td>[kompas, com, buah, bisa, menjadi, pilihan, me...</td>\n",
       "    </tr>\n",
       "    <tr>\n",
       "      <th>2</th>\n",
       "      <td>kompas com   malanutrisi merupakan masalah kes...</td>\n",
       "      <td>[kompas, com, malanutrisi, merupakan, masalah,...</td>\n",
       "    </tr>\n",
       "    <tr>\n",
       "      <th>3</th>\n",
       "      <td>kompas com   berkeringat merupakan cara alami ...</td>\n",
       "      <td>[kompas, com, berkeringat, merupakan, cara, al...</td>\n",
       "    </tr>\n",
       "    <tr>\n",
       "      <th>4</th>\n",
       "      <td>kompas com   ikatan dokter anak indonesia  ida...</td>\n",
       "      <td>[kompas, com, ikatan, dokter, anak, indonesia,...</td>\n",
       "    </tr>\n",
       "    <tr>\n",
       "      <th>...</th>\n",
       "      <td>...</td>\n",
       "      <td>...</td>\n",
       "    </tr>\n",
       "    <tr>\n",
       "      <th>95</th>\n",
       "      <td>jakarta  kompas com   ribuan orang nampak berg...</td>\n",
       "      <td>[jakarta, kompas, com, ribuan, orang, nampak, ...</td>\n",
       "    </tr>\n",
       "    <tr>\n",
       "      <th>96</th>\n",
       "      <td>kompas com   provinsi gorontalo di pulau sulaw...</td>\n",
       "      <td>[kompas, com, provinsi, gorontalo, di, pulau, ...</td>\n",
       "    </tr>\n",
       "    <tr>\n",
       "      <th>97</th>\n",
       "      <td>kompas com   jalur pendakian yang indah di haw...</td>\n",
       "      <td>[kompas, com, jalur, pendakian, yang, indah, d...</td>\n",
       "    </tr>\n",
       "    <tr>\n",
       "      <th>98</th>\n",
       "      <td>kompas com   menikmati waktu berkualitas bersa...</td>\n",
       "      <td>[kompas, com, menikmati, waktu, berkualitas, b...</td>\n",
       "    </tr>\n",
       "    <tr>\n",
       "      <th>99</th>\n",
       "      <td>kompas com   karena memiliki model kursi kelas...</td>\n",
       "      <td>[kompas, com, karena, memiliki, model, kursi, ...</td>\n",
       "    </tr>\n",
       "  </tbody>\n",
       "</table>\n",
       "<p>100 rows × 2 columns</p>\n",
       "</div>"
      ],
      "text/plain": [
       "                                         cleaned_text  \\\n",
       "0   kompas com   orang dengan obesitas lebih mungk...   \n",
       "1   kompas com   buah bisa menjadi pilihan menu ya...   \n",
       "2   kompas com   malanutrisi merupakan masalah kes...   \n",
       "3   kompas com   berkeringat merupakan cara alami ...   \n",
       "4   kompas com   ikatan dokter anak indonesia  ida...   \n",
       "..                                                ...   \n",
       "95  jakarta  kompas com   ribuan orang nampak berg...   \n",
       "96  kompas com   provinsi gorontalo di pulau sulaw...   \n",
       "97  kompas com   jalur pendakian yang indah di haw...   \n",
       "98  kompas com   menikmati waktu berkualitas bersa...   \n",
       "99  kompas com   karena memiliki model kursi kelas...   \n",
       "\n",
       "                                       tokenized_text  \n",
       "0   [kompas, com, orang, dengan, obesitas, lebih, ...  \n",
       "1   [kompas, com, buah, bisa, menjadi, pilihan, me...  \n",
       "2   [kompas, com, malanutrisi, merupakan, masalah,...  \n",
       "3   [kompas, com, berkeringat, merupakan, cara, al...  \n",
       "4   [kompas, com, ikatan, dokter, anak, indonesia,...  \n",
       "..                                                ...  \n",
       "95  [jakarta, kompas, com, ribuan, orang, nampak, ...  \n",
       "96  [kompas, com, provinsi, gorontalo, di, pulau, ...  \n",
       "97  [kompas, com, jalur, pendakian, yang, indah, d...  \n",
       "98  [kompas, com, menikmati, waktu, berkualitas, b...  \n",
       "99  [kompas, com, karena, memiliki, model, kursi, ...  \n",
       "\n",
       "[100 rows x 2 columns]"
      ]
     },
     "execution_count": 14,
     "metadata": {},
     "output_type": "execute_result"
    }
   ],
   "source": [
    "df['tokenized_text'] = df['cleaned_text'].apply(lambda text: text.split())\n",
    "\n",
    "df[['cleaned_text', 'tokenized_text']]"
   ]
  },
  {
   "cell_type": "markdown",
   "id": "a9469d85-d813-4436-8a28-9c32eede5131",
   "metadata": {},
   "source": [
    "#### Stopword Removal"
   ]
  },
  {
   "cell_type": "code",
   "execution_count": 15,
   "id": "7f0305ac-829e-45c2-8277-1e135a327fb3",
   "metadata": {},
   "outputs": [
    {
     "data": {
      "text/html": [
       "<div>\n",
       "<style scoped>\n",
       "    .dataframe tbody tr th:only-of-type {\n",
       "        vertical-align: middle;\n",
       "    }\n",
       "\n",
       "    .dataframe tbody tr th {\n",
       "        vertical-align: top;\n",
       "    }\n",
       "\n",
       "    .dataframe thead th {\n",
       "        text-align: right;\n",
       "    }\n",
       "</style>\n",
       "<table border=\"1\" class=\"dataframe\">\n",
       "  <thead>\n",
       "    <tr style=\"text-align: right;\">\n",
       "      <th></th>\n",
       "      <th>tokenized_text</th>\n",
       "      <th>no_stopwords_text</th>\n",
       "    </tr>\n",
       "  </thead>\n",
       "  <tbody>\n",
       "    <tr>\n",
       "      <th>0</th>\n",
       "      <td>[kompas, com, orang, dengan, obesitas, lebih, ...</td>\n",
       "      <td>[kompas, com, orang, obesitas, mengalami, kese...</td>\n",
       "    </tr>\n",
       "    <tr>\n",
       "      <th>1</th>\n",
       "      <td>[kompas, com, buah, bisa, menjadi, pilihan, me...</td>\n",
       "      <td>[kompas, com, buah, pilihan, menu, ringan, bag...</td>\n",
       "    </tr>\n",
       "    <tr>\n",
       "      <th>2</th>\n",
       "      <td>[kompas, com, malanutrisi, merupakan, masalah,...</td>\n",
       "      <td>[kompas, com, malanutrisi, kesehatan, serius, ...</td>\n",
       "    </tr>\n",
       "    <tr>\n",
       "      <th>3</th>\n",
       "      <td>[kompas, com, berkeringat, merupakan, cara, al...</td>\n",
       "      <td>[kompas, com, berkeringat, alami, tubuh, mendi...</td>\n",
       "    </tr>\n",
       "    <tr>\n",
       "      <th>4</th>\n",
       "      <td>[kompas, com, ikatan, dokter, anak, indonesia,...</td>\n",
       "      <td>[kompas, com, ikatan, dokter, anak, indonesia,...</td>\n",
       "    </tr>\n",
       "    <tr>\n",
       "      <th>...</th>\n",
       "      <td>...</td>\n",
       "      <td>...</td>\n",
       "    </tr>\n",
       "    <tr>\n",
       "      <th>95</th>\n",
       "      <td>[jakarta, kompas, com, ribuan, orang, nampak, ...</td>\n",
       "      <td>[jakarta, kompas, com, ribuan, orang, nampak, ...</td>\n",
       "    </tr>\n",
       "    <tr>\n",
       "      <th>96</th>\n",
       "      <td>[kompas, com, provinsi, gorontalo, di, pulau, ...</td>\n",
       "      <td>[kompas, com, provinsi, gorontalo, pulau, sula...</td>\n",
       "    </tr>\n",
       "    <tr>\n",
       "      <th>97</th>\n",
       "      <td>[kompas, com, jalur, pendakian, yang, indah, d...</td>\n",
       "      <td>[kompas, com, jalur, pendakian, indah, hawaii,...</td>\n",
       "    </tr>\n",
       "    <tr>\n",
       "      <th>98</th>\n",
       "      <td>[kompas, com, menikmati, waktu, berkualitas, b...</td>\n",
       "      <td>[kompas, com, menikmati, berkualitas, keluarga...</td>\n",
       "    </tr>\n",
       "    <tr>\n",
       "      <th>99</th>\n",
       "      <td>[kompas, com, karena, memiliki, model, kursi, ...</td>\n",
       "      <td>[kompas, com, memiliki, model, kursi, kelas, t...</td>\n",
       "    </tr>\n",
       "  </tbody>\n",
       "</table>\n",
       "<p>100 rows × 2 columns</p>\n",
       "</div>"
      ],
      "text/plain": [
       "                                       tokenized_text  \\\n",
       "0   [kompas, com, orang, dengan, obesitas, lebih, ...   \n",
       "1   [kompas, com, buah, bisa, menjadi, pilihan, me...   \n",
       "2   [kompas, com, malanutrisi, merupakan, masalah,...   \n",
       "3   [kompas, com, berkeringat, merupakan, cara, al...   \n",
       "4   [kompas, com, ikatan, dokter, anak, indonesia,...   \n",
       "..                                                ...   \n",
       "95  [jakarta, kompas, com, ribuan, orang, nampak, ...   \n",
       "96  [kompas, com, provinsi, gorontalo, di, pulau, ...   \n",
       "97  [kompas, com, jalur, pendakian, yang, indah, d...   \n",
       "98  [kompas, com, menikmati, waktu, berkualitas, b...   \n",
       "99  [kompas, com, karena, memiliki, model, kursi, ...   \n",
       "\n",
       "                                    no_stopwords_text  \n",
       "0   [kompas, com, orang, obesitas, mengalami, kese...  \n",
       "1   [kompas, com, buah, pilihan, menu, ringan, bag...  \n",
       "2   [kompas, com, malanutrisi, kesehatan, serius, ...  \n",
       "3   [kompas, com, berkeringat, alami, tubuh, mendi...  \n",
       "4   [kompas, com, ikatan, dokter, anak, indonesia,...  \n",
       "..                                                ...  \n",
       "95  [jakarta, kompas, com, ribuan, orang, nampak, ...  \n",
       "96  [kompas, com, provinsi, gorontalo, pulau, sula...  \n",
       "97  [kompas, com, jalur, pendakian, indah, hawaii,...  \n",
       "98  [kompas, com, menikmati, berkualitas, keluarga...  \n",
       "99  [kompas, com, memiliki, model, kursi, kelas, t...  \n",
       "\n",
       "[100 rows x 2 columns]"
      ]
     },
     "execution_count": 15,
     "metadata": {},
     "output_type": "execute_result"
    }
   ],
   "source": [
    "stop_words = set(stopwords.words('indonesian'))\n",
    "\n",
    "df['no_stopwords_text'] = df['tokenized_text'].apply(lambda tokens: [word for word in tokens if word not in stop_words])\n",
    "\n",
    "df[['tokenized_text', 'no_stopwords_text']]"
   ]
  },
  {
   "cell_type": "markdown",
   "id": "4fddbc5b-ac16-439c-a46c-d670861a7138",
   "metadata": {},
   "source": [
    "#### Stemming"
   ]
  },
  {
   "cell_type": "code",
   "execution_count": 16,
   "id": "2287264c-9f7e-472a-b008-7d116920c27c",
   "metadata": {
    "scrolled": true
   },
   "outputs": [
    {
     "data": {
      "text/html": [
       "<div>\n",
       "<style scoped>\n",
       "    .dataframe tbody tr th:only-of-type {\n",
       "        vertical-align: middle;\n",
       "    }\n",
       "\n",
       "    .dataframe tbody tr th {\n",
       "        vertical-align: top;\n",
       "    }\n",
       "\n",
       "    .dataframe thead th {\n",
       "        text-align: right;\n",
       "    }\n",
       "</style>\n",
       "<table border=\"1\" class=\"dataframe\">\n",
       "  <thead>\n",
       "    <tr style=\"text-align: right;\">\n",
       "      <th></th>\n",
       "      <th>no_stopwords_text</th>\n",
       "      <th>final_text</th>\n",
       "    </tr>\n",
       "  </thead>\n",
       "  <tbody>\n",
       "    <tr>\n",
       "      <th>0</th>\n",
       "      <td>[kompas, com, orang, obesitas, mengalami, kese...</td>\n",
       "      <td>kompas com orang obesitas alami sehat potensi ...</td>\n",
       "    </tr>\n",
       "    <tr>\n",
       "      <th>1</th>\n",
       "      <td>[kompas, com, buah, pilihan, menu, ringan, bag...</td>\n",
       "      <td>kompas com buah pilih menu ringan bagus konsum...</td>\n",
       "    </tr>\n",
       "    <tr>\n",
       "      <th>2</th>\n",
       "      <td>[kompas, com, malanutrisi, kesehatan, serius, ...</td>\n",
       "      <td>kompas com malanutrisi sehat serius indonesia ...</td>\n",
       "    </tr>\n",
       "    <tr>\n",
       "      <th>3</th>\n",
       "      <td>[kompas, com, berkeringat, alami, tubuh, mendi...</td>\n",
       "      <td>kompas com keringat alami tubuh dingin orang d...</td>\n",
       "    </tr>\n",
       "    <tr>\n",
       "      <th>4</th>\n",
       "      <td>[kompas, com, ikatan, dokter, anak, indonesia,...</td>\n",
       "      <td>kompas com ikat dokter anak indonesia ida gera...</td>\n",
       "    </tr>\n",
       "    <tr>\n",
       "      <th>...</th>\n",
       "      <td>...</td>\n",
       "      <td>...</td>\n",
       "    </tr>\n",
       "    <tr>\n",
       "      <th>95</th>\n",
       "      <td>[jakarta, kompas, com, ribuan, orang, nampak, ...</td>\n",
       "      <td>jakarta kompas com ribu orang nampak ganti fes...</td>\n",
       "    </tr>\n",
       "    <tr>\n",
       "      <th>96</th>\n",
       "      <td>[kompas, com, provinsi, gorontalo, pulau, sula...</td>\n",
       "      <td>kompas com provinsi gorontalo pulau sulawesi u...</td>\n",
       "    </tr>\n",
       "    <tr>\n",
       "      <th>97</th>\n",
       "      <td>[kompas, com, jalur, pendakian, indah, hawaii,...</td>\n",
       "      <td>kompas com jalur daki indah hawaii nikmat unju...</td>\n",
       "    </tr>\n",
       "    <tr>\n",
       "      <th>98</th>\n",
       "      <td>[kompas, com, menikmati, berkualitas, keluarga...</td>\n",
       "      <td>kompas com nikmat kualitas keluarga teman tema...</td>\n",
       "    </tr>\n",
       "    <tr>\n",
       "      <th>99</th>\n",
       "      <td>[kompas, com, memiliki, model, kursi, kelas, t...</td>\n",
       "      <td>kompas com milik model kursi kelas baru swiss ...</td>\n",
       "    </tr>\n",
       "  </tbody>\n",
       "</table>\n",
       "<p>100 rows × 2 columns</p>\n",
       "</div>"
      ],
      "text/plain": [
       "                                    no_stopwords_text  \\\n",
       "0   [kompas, com, orang, obesitas, mengalami, kese...   \n",
       "1   [kompas, com, buah, pilihan, menu, ringan, bag...   \n",
       "2   [kompas, com, malanutrisi, kesehatan, serius, ...   \n",
       "3   [kompas, com, berkeringat, alami, tubuh, mendi...   \n",
       "4   [kompas, com, ikatan, dokter, anak, indonesia,...   \n",
       "..                                                ...   \n",
       "95  [jakarta, kompas, com, ribuan, orang, nampak, ...   \n",
       "96  [kompas, com, provinsi, gorontalo, pulau, sula...   \n",
       "97  [kompas, com, jalur, pendakian, indah, hawaii,...   \n",
       "98  [kompas, com, menikmati, berkualitas, keluarga...   \n",
       "99  [kompas, com, memiliki, model, kursi, kelas, t...   \n",
       "\n",
       "                                           final_text  \n",
       "0   kompas com orang obesitas alami sehat potensi ...  \n",
       "1   kompas com buah pilih menu ringan bagus konsum...  \n",
       "2   kompas com malanutrisi sehat serius indonesia ...  \n",
       "3   kompas com keringat alami tubuh dingin orang d...  \n",
       "4   kompas com ikat dokter anak indonesia ida gera...  \n",
       "..                                                ...  \n",
       "95  jakarta kompas com ribu orang nampak ganti fes...  \n",
       "96  kompas com provinsi gorontalo pulau sulawesi u...  \n",
       "97  kompas com jalur daki indah hawaii nikmat unju...  \n",
       "98  kompas com nikmat kualitas keluarga teman tema...  \n",
       "99  kompas com milik model kursi kelas baru swiss ...  \n",
       "\n",
       "[100 rows x 2 columns]"
      ]
     },
     "execution_count": 16,
     "metadata": {},
     "output_type": "execute_result"
    }
   ],
   "source": [
    "# Membuat objek Stemmer dari Sastrawi\n",
    "factory = StemmerFactory()\n",
    "stemmer = factory.create_stemmer()\n",
    "\n",
    "# Menggunakan Sastrawi untuk stemming teks\n",
    "df['stemmed_text'] = df['no_stopwords_text'].apply(lambda tokens: [stemmer.stem(word) for word in tokens])\n",
    "df['final_text'] = df['stemmed_text'].apply(lambda x: ' '.join(x))\n",
    "\n",
    "df[['no_stopwords_text', 'final_text']]"
   ]
  },
  {
   "cell_type": "markdown",
   "id": "c8f09b4f-75ff-4c61-9b44-1e5db4ac312d",
   "metadata": {},
   "source": [
    "## Split Data"
   ]
  },
  {
   "cell_type": "code",
   "execution_count": 17,
   "id": "5ad8d990-0dae-46ca-bd85-81fa01735f08",
   "metadata": {},
   "outputs": [],
   "source": [
    "x = df['content'].values\n",
    "y = df['category'].values"
   ]
  },
  {
   "cell_type": "code",
   "execution_count": 18,
   "id": "8f008646-ff0c-4c70-b1d7-ed3f1659f86c",
   "metadata": {},
   "outputs": [],
   "source": [
    "Xtrain, Xtest,Ytrain,Ytest = train_test_split(x,y,test_size=0.2,random_state=2)"
   ]
  },
  {
   "cell_type": "markdown",
   "id": "d4d34917-f65f-4557-86ee-4752f72cdb92",
   "metadata": {},
   "source": [
    "## TF-IDF"
   ]
  },
  {
   "cell_type": "code",
   "execution_count": 19,
   "id": "4f647f73-8379-42e1-82f8-0699dbb79322",
   "metadata": {},
   "outputs": [],
   "source": [
    "vect = TfidfVectorizer()\n",
    "X = vect.fit_transform(Xtrain)\n",
    "\n",
    "# X_array = vect.transform(Xtrain)"
   ]
  },
  {
   "cell_type": "code",
   "execution_count": 20,
   "id": "879cac8f-8443-4e5b-9701-31b8d385c1bb",
   "metadata": {},
   "outputs": [
    {
     "ename": "NameError",
     "evalue": "name 'vect_matrix' is not defined",
     "output_type": "error",
     "traceback": [
      "\u001b[1;31m---------------------------------------------------------------------------\u001b[0m",
      "\u001b[1;31mNameError\u001b[0m                                 Traceback (most recent call last)",
      "Cell \u001b[1;32mIn[20], line 2\u001b[0m\n\u001b[0;32m      1\u001b[0m terms \u001b[38;5;241m=\u001b[39m vect\u001b[38;5;241m.\u001b[39mget_feature_names_out()\n\u001b[1;32m----> 2\u001b[0m tfidf \u001b[38;5;241m=\u001b[39m pd\u001b[38;5;241m.\u001b[39mDataFrame(data\u001b[38;5;241m=\u001b[39m\u001b[43mvect_matrix\u001b[49m\u001b[38;5;241m.\u001b[39mtoarray(), columns\u001b[38;5;241m=\u001b[39mterms)\n\u001b[0;32m      3\u001b[0m tfidf\n",
      "\u001b[1;31mNameError\u001b[0m: name 'vect_matrix' is not defined"
     ]
    }
   ],
   "source": [
    "terms = vect.get_feature_names_out()\n",
    "tfidf = pd.DataFrame(data=vect_matrix.toarray(), columns=terms)\n",
    "tfidf"
   ]
  },
  {
   "cell_type": "code",
   "execution_count": null,
   "id": "a88a8e3d-8b63-4d3d-8042-2294005098d8",
   "metadata": {},
   "outputs": [],
   "source": [
    "print(\"Jumlah fitur kata dari hasil TF-IDF:\", len(terms))"
   ]
  },
  {
   "cell_type": "code",
   "execution_count": null,
   "id": "f11e2543-f461-4b2d-a8be-d75812e438a2",
   "metadata": {},
   "outputs": [],
   "source": [
    "# Menyimpan vectorizer\n",
    "with open('tfidf_vectorizer.pkl', 'wb') as f:\n",
    "    pickle.dump(vect, f)  "
   ]
  },
  {
   "cell_type": "markdown",
   "id": "7ce4ad5c-9fa1-42f0-a1a4-e10e25c33e48",
   "metadata": {},
   "source": [
    "## Melatih Model Logistic Regression"
   ]
  },
  {
   "cell_type": "code",
   "execution_count": null,
   "id": "e6d18e82-a449-4f65-b6a1-c7ee4ac21037",
   "metadata": {},
   "outputs": [],
   "source": [
    "# Membuat model Logistic Regression\n",
    "model = LogisticRegression()\n",
    "\n",
    "# Melatih model dengan data pelatihan\n",
    "model.fit(X, Ytrain)"
   ]
  },
  {
   "cell_type": "code",
   "execution_count": null,
   "id": "5c84fa5f-7e46-4700-99df-1072b7d3370a",
   "metadata": {},
   "outputs": [],
   "source": [
    "# Meyimpan model\n",
    "with open('logistic_model', 'wb') as f:\n",
    "    pickle.dump(model, f)"
   ]
  },
  {
   "cell_type": "markdown",
   "id": "e47b78e0-d1cc-4b52-a555-d122fd33c213",
   "metadata": {},
   "source": [
    "## Testing Data Baru"
   ]
  },
  {
   "cell_type": "code",
   "execution_count": null,
   "id": "75bccdd3-ed3a-4917-8f10-2f1e5e67eb16",
   "metadata": {},
   "outputs": [],
   "source": [
    "# Load TF-IDF dan model logistic regression dari file pickle\n",
    "with open(\"tfidf_vectorizer.pkl\", \"rb\") as f:\n",
    "    tfidf_vectorizer = pickle.load(f)\n"
   ]
  },
  {
   "cell_type": "code",
   "execution_count": null,
   "id": "8bbffabd-6720-48c3-b7b4-14dbd8fd4fc7",
   "metadata": {},
   "outputs": [],
   "source": [
    "with open(\"logistic_model\", \"rb\") as f:\n",
    "    model = pickle.load(f)"
   ]
  },
  {
   "cell_type": "code",
   "execution_count": null,
   "id": "90fa5757-84c8-42c6-87f4-ac9a81459907",
   "metadata": {},
   "outputs": [],
   "source": [
    "# Transformasi data baru dengan TF-IDF yang sudah dilatih\n",
    "X_baru = tfidf_vectorizer.transform(Xtest)\n",
    "\n",
    "# Lakukan prediksi dengan model logistic regression\n",
    "prediksi = model.predict(X_baru)"
   ]
  },
  {
   "cell_type": "markdown",
   "id": "22e46e65-1829-4ae4-8ef1-e603cdaf70bc",
   "metadata": {},
   "source": [
    "## Evaluasi"
   ]
  },
  {
   "cell_type": "code",
   "execution_count": null,
   "id": "63fe7075-6566-480d-91a5-c9fdacc72d53",
   "metadata": {},
   "outputs": [],
   "source": [
    "accuracy = accuracy_score(Ytest, prediksi)\n",
    "print(f\"Akurasi: {accuracy * 100:.2f}%\")"
   ]
  },
  {
   "cell_type": "code",
   "execution_count": null,
   "id": "8b44b6cb-5674-42f3-99be-d0aab1c457ea",
   "metadata": {},
   "outputs": [],
   "source": [
    "# confusion matrix\n",
    "cm = confusion_matrix(Ytest, prediksi)\n",
    "\n",
    "plt.figure(figsize=(8, 6))\n",
    "sns.heatmap(cm, annot=True, fmt=\"d\", cmap=\"Blues\", xticklabels=np.unique(Ytest), yticklabels=np.unique(Ytest))\n",
    "plt.title('Confusion Matrix')\n",
    "plt.xlabel('Predicted')\n",
    "plt.ylabel('Actual')\n",
    "plt.show()"
   ]
  },
  {
   "cell_type": "code",
   "execution_count": null,
   "id": "52ccf784-9648-4b5c-9152-be27a1e92de5",
   "metadata": {},
   "outputs": [],
   "source": [
    "# Menampilkan hasil prediksi\n",
    "\n",
    "print(\"Aktual:\", Ytest)\n",
    "print(\"Prediksi:\", prediksi)"
   ]
  },
  {
   "cell_type": "markdown",
   "id": "f42f3041-3471-48df-98d2-6539a8e2d8b6",
   "metadata": {},
   "source": [
    "## Deployment\n",
    "\n",
    "Deployment aplikasi menggunakan bantuan streamlit\n",
    "\n",
    "Link : https://klasifikasi-beritalogistic-regressiongit-k4wafwq9kk48dbog8zrzt.streamlit.app/"
   ]
  }
 ],
 "metadata": {
  "kernelspec": {
   "display_name": "Python 3 (ipykernel)",
   "language": "python",
   "name": "python3"
  },
  "language_info": {
   "codemirror_mode": {
    "name": "ipython",
    "version": 3
   },
   "file_extension": ".py",
   "mimetype": "text/x-python",
   "name": "python",
   "nbconvert_exporter": "python",
   "pygments_lexer": "ipython3",
   "version": "3.11.9"
  }
 },
 "nbformat": 4,
 "nbformat_minor": 5
}
